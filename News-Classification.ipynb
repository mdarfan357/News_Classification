{
 "cells": [
  {
   "cell_type": "code",
   "execution_count": 1,
   "id": "995b4aa3",
   "metadata": {
    "_cell_guid": "b1076dfc-b9ad-4769-8c92-a6c4dae69d19",
    "_uuid": "8f2839f25d086af736a60e9eeb907d3b93b6e0e5",
    "execution": {
     "iopub.execute_input": "2023-04-11T19:08:13.995835Z",
     "iopub.status.busy": "2023-04-11T19:08:13.995328Z",
     "iopub.status.idle": "2023-04-11T19:08:14.007369Z",
     "shell.execute_reply": "2023-04-11T19:08:14.006459Z"
    },
    "papermill": {
     "duration": 0.029118,
     "end_time": "2023-04-11T19:08:14.009579",
     "exception": false,
     "start_time": "2023-04-11T19:08:13.980461",
     "status": "completed"
    },
    "tags": []
   },
   "outputs": [],
   "source": [
    "import numpy as np \n",
    "import pandas as pd \n",
    "\n",
    "import os\n",
    "for dirname, _, filenames in os.walk('/kaggle/input'):\n",
    "    for filename in filenames:\n",
    "        print(os.path.join(dirname, filename))"
   ]
  },
  {
   "cell_type": "code",
   "execution_count": 2,
   "id": "50045904",
   "metadata": {
    "execution": {
     "iopub.execute_input": "2023-04-11T19:08:14.034507Z",
     "iopub.status.busy": "2023-04-11T19:08:14.033503Z",
     "iopub.status.idle": "2023-04-11T19:08:24.720925Z",
     "shell.execute_reply": "2023-04-11T19:08:24.719045Z"
    },
    "papermill": {
     "duration": 10.703157,
     "end_time": "2023-04-11T19:08:24.723849",
     "exception": false,
     "start_time": "2023-04-11T19:08:14.020692",
     "status": "completed"
    },
    "tags": []
   },
   "outputs": [
    {
     "name": "stdout",
     "output_type": "stream",
     "text": [
      "Requirement already satisfied: transformers in /opt/conda/lib/python3.7/site-packages (4.27.3)\r\n",
      "Requirement already satisfied: regex!=2019.12.17 in /opt/conda/lib/python3.7/site-packages (from transformers) (2021.11.10)\r\n",
      "Requirement already satisfied: requests in /opt/conda/lib/python3.7/site-packages (from transformers) (2.28.2)\r\n",
      "Requirement already satisfied: filelock in /opt/conda/lib/python3.7/site-packages (from transformers) (3.9.0)\r\n",
      "Requirement already satisfied: numpy>=1.17 in /opt/conda/lib/python3.7/site-packages (from transformers) (1.21.6)\r\n",
      "Requirement already satisfied: packaging>=20.0 in /opt/conda/lib/python3.7/site-packages (from transformers) (23.0)\r\n",
      "Requirement already satisfied: tqdm>=4.27 in /opt/conda/lib/python3.7/site-packages (from transformers) (4.64.1)\r\n",
      "Requirement already satisfied: pyyaml>=5.1 in /opt/conda/lib/python3.7/site-packages (from transformers) (6.0)\r\n",
      "Requirement already satisfied: importlib-metadata in /opt/conda/lib/python3.7/site-packages (from transformers) (4.11.4)\r\n",
      "Requirement already satisfied: huggingface-hub<1.0,>=0.11.0 in /opt/conda/lib/python3.7/site-packages (from transformers) (0.13.3)\r\n",
      "Requirement already satisfied: tokenizers!=0.11.3,<0.14,>=0.11.1 in /opt/conda/lib/python3.7/site-packages (from transformers) (0.13.2)\r\n",
      "Requirement already satisfied: typing-extensions>=3.7.4.3 in /opt/conda/lib/python3.7/site-packages (from huggingface-hub<1.0,>=0.11.0->transformers) (4.4.0)\r\n",
      "Requirement already satisfied: zipp>=0.5 in /opt/conda/lib/python3.7/site-packages (from importlib-metadata->transformers) (3.11.0)\r\n",
      "Requirement already satisfied: charset-normalizer<4,>=2 in /opt/conda/lib/python3.7/site-packages (from requests->transformers) (2.1.1)\r\n",
      "Requirement already satisfied: idna<4,>=2.5 in /opt/conda/lib/python3.7/site-packages (from requests->transformers) (3.4)\r\n",
      "Requirement already satisfied: certifi>=2017.4.17 in /opt/conda/lib/python3.7/site-packages (from requests->transformers) (2022.12.7)\r\n",
      "Requirement already satisfied: urllib3<1.27,>=1.21.1 in /opt/conda/lib/python3.7/site-packages (from requests->transformers) (1.26.14)\r\n",
      "\u001b[33mWARNING: Running pip as the 'root' user can result in broken permissions and conflicting behaviour with the system package manager. It is recommended to use a virtual environment instead: https://pip.pypa.io/warnings/venv\u001b[0m\u001b[33m\r\n",
      "\u001b[0mNote: you may need to restart the kernel to use updated packages.\n"
     ]
    }
   ],
   "source": [
    "pip install transformers"
   ]
  },
  {
   "cell_type": "code",
   "execution_count": 3,
   "id": "b16540a2",
   "metadata": {
    "execution": {
     "iopub.execute_input": "2023-04-11T19:08:24.748772Z",
     "iopub.status.busy": "2023-04-11T19:08:24.748442Z",
     "iopub.status.idle": "2023-04-11T19:08:26.427193Z",
     "shell.execute_reply": "2023-04-11T19:08:26.426165Z"
    },
    "papermill": {
     "duration": 1.694258,
     "end_time": "2023-04-11T19:08:26.429885",
     "exception": false,
     "start_time": "2023-04-11T19:08:24.735627",
     "status": "completed"
    },
    "tags": []
   },
   "outputs": [],
   "source": [
    "import transformers"
   ]
  },
  {
   "cell_type": "code",
   "execution_count": 4,
   "id": "54b40aa3",
   "metadata": {
    "execution": {
     "iopub.execute_input": "2023-04-11T19:08:26.458065Z",
     "iopub.status.busy": "2023-04-11T19:08:26.455867Z",
     "iopub.status.idle": "2023-04-11T19:08:39.021533Z",
     "shell.execute_reply": "2023-04-11T19:08:39.020380Z"
    },
    "papermill": {
     "duration": 12.581246,
     "end_time": "2023-04-11T19:08:39.024277",
     "exception": false,
     "start_time": "2023-04-11T19:08:26.443031",
     "status": "completed"
    },
    "tags": []
   },
   "outputs": [],
   "source": [
    "from transformers import DistilBertTokenizer\n",
    "from transformers import TFDistilBertForSequenceClassification\n",
    "from transformers import TextClassificationPipeline\n",
    "\n",
    "import tensorflow as tf\n",
    "import pandas as pd\n",
    "import json\n",
    "import gc\n",
    "\n",
    "from sklearn.model_selection import train_test_split\n",
    "\n",
    "import seaborn as sns\n",
    "import matplotlib.pyplot as plt\n",
    "from plotly.offline import iplot\n",
    "\n",
    "from tqdm import tqdm"
   ]
  },
  {
   "cell_type": "markdown",
   "id": "21c0d615",
   "metadata": {
    "papermill": {
     "duration": 0.012464,
     "end_time": "2023-04-11T19:08:39.049209",
     "exception": false,
     "start_time": "2023-04-11T19:08:39.036745",
     "status": "completed"
    },
    "tags": []
   },
   "source": [
    "# Importing dataset"
   ]
  },
  {
   "cell_type": "code",
   "execution_count": 5,
   "id": "c1b4bbe5",
   "metadata": {
    "execution": {
     "iopub.execute_input": "2023-04-11T19:08:39.076264Z",
     "iopub.status.busy": "2023-04-11T19:08:39.075311Z",
     "iopub.status.idle": "2023-04-11T19:08:39.235129Z",
     "shell.execute_reply": "2023-04-11T19:08:39.233874Z"
    },
    "papermill": {
     "duration": 0.175928,
     "end_time": "2023-04-11T19:08:39.237512",
     "exception": false,
     "start_time": "2023-04-11T19:08:39.061584",
     "status": "completed"
    },
    "tags": []
   },
   "outputs": [
    {
     "data": {
      "text/plain": [
       "5057493"
      ]
     },
     "execution_count": 5,
     "metadata": {},
     "output_type": "execute_result"
    }
   ],
   "source": [
    "import requests\n",
    "url = \"https://storage.googleapis.com/dataset-uploader/bbc/bbc-text.csv\"\n",
    "r = requests.get(url, allow_redirects=True)\n",
    "open('bbc-news.csv', 'wb').write(r.content)"
   ]
  },
  {
   "cell_type": "code",
   "execution_count": 6,
   "id": "ead9c584",
   "metadata": {
    "execution": {
     "iopub.execute_input": "2023-04-11T19:08:39.263640Z",
     "iopub.status.busy": "2023-04-11T19:08:39.262760Z",
     "iopub.status.idle": "2023-04-11T19:08:39.331589Z",
     "shell.execute_reply": "2023-04-11T19:08:39.330376Z"
    },
    "papermill": {
     "duration": 0.08512,
     "end_time": "2023-04-11T19:08:39.335005",
     "exception": false,
     "start_time": "2023-04-11T19:08:39.249885",
     "status": "completed"
    },
    "tags": []
   },
   "outputs": [
    {
     "data": {
      "text/html": [
       "<div>\n",
       "<style scoped>\n",
       "    .dataframe tbody tr th:only-of-type {\n",
       "        vertical-align: middle;\n",
       "    }\n",
       "\n",
       "    .dataframe tbody tr th {\n",
       "        vertical-align: top;\n",
       "    }\n",
       "\n",
       "    .dataframe thead th {\n",
       "        text-align: right;\n",
       "    }\n",
       "</style>\n",
       "<table border=\"1\" class=\"dataframe\">\n",
       "  <thead>\n",
       "    <tr style=\"text-align: right;\">\n",
       "      <th></th>\n",
       "      <th>category</th>\n",
       "      <th>text</th>\n",
       "    </tr>\n",
       "  </thead>\n",
       "  <tbody>\n",
       "    <tr>\n",
       "      <th>0</th>\n",
       "      <td>tech</td>\n",
       "      <td>tv future in the hands of viewers with home th...</td>\n",
       "    </tr>\n",
       "    <tr>\n",
       "      <th>1</th>\n",
       "      <td>business</td>\n",
       "      <td>worldcom boss  left books alone  former worldc...</td>\n",
       "    </tr>\n",
       "    <tr>\n",
       "      <th>2</th>\n",
       "      <td>sport</td>\n",
       "      <td>tigers wary of farrell  gamble  leicester say ...</td>\n",
       "    </tr>\n",
       "    <tr>\n",
       "      <th>3</th>\n",
       "      <td>sport</td>\n",
       "      <td>yeading face newcastle in fa cup premiership s...</td>\n",
       "    </tr>\n",
       "    <tr>\n",
       "      <th>4</th>\n",
       "      <td>entertainment</td>\n",
       "      <td>ocean s twelve raids box office ocean s twelve...</td>\n",
       "    </tr>\n",
       "    <tr>\n",
       "      <th>...</th>\n",
       "      <td>...</td>\n",
       "      <td>...</td>\n",
       "    </tr>\n",
       "    <tr>\n",
       "      <th>2220</th>\n",
       "      <td>business</td>\n",
       "      <td>cars pull down us retail figures us retail sal...</td>\n",
       "    </tr>\n",
       "    <tr>\n",
       "      <th>2221</th>\n",
       "      <td>politics</td>\n",
       "      <td>kilroy unveils immigration policy ex-chatshow ...</td>\n",
       "    </tr>\n",
       "    <tr>\n",
       "      <th>2222</th>\n",
       "      <td>entertainment</td>\n",
       "      <td>rem announce new glasgow concert us band rem h...</td>\n",
       "    </tr>\n",
       "    <tr>\n",
       "      <th>2223</th>\n",
       "      <td>politics</td>\n",
       "      <td>how political squabbles snowball it s become c...</td>\n",
       "    </tr>\n",
       "    <tr>\n",
       "      <th>2224</th>\n",
       "      <td>sport</td>\n",
       "      <td>souness delight at euro progress boss graeme s...</td>\n",
       "    </tr>\n",
       "  </tbody>\n",
       "</table>\n",
       "<p>2225 rows × 2 columns</p>\n",
       "</div>"
      ],
      "text/plain": [
       "           category                                               text\n",
       "0              tech  tv future in the hands of viewers with home th...\n",
       "1          business  worldcom boss  left books alone  former worldc...\n",
       "2             sport  tigers wary of farrell  gamble  leicester say ...\n",
       "3             sport  yeading face newcastle in fa cup premiership s...\n",
       "4     entertainment  ocean s twelve raids box office ocean s twelve...\n",
       "...             ...                                                ...\n",
       "2220       business  cars pull down us retail figures us retail sal...\n",
       "2221       politics  kilroy unveils immigration policy ex-chatshow ...\n",
       "2222  entertainment  rem announce new glasgow concert us band rem h...\n",
       "2223       politics  how political squabbles snowball it s become c...\n",
       "2224          sport  souness delight at euro progress boss graeme s...\n",
       "\n",
       "[2225 rows x 2 columns]"
      ]
     },
     "execution_count": 6,
     "metadata": {},
     "output_type": "execute_result"
    }
   ],
   "source": [
    "df = pd.read_csv('bbc-news.csv')\n",
    "df"
   ]
  },
  {
   "cell_type": "code",
   "execution_count": 7,
   "id": "4aa11767",
   "metadata": {
    "execution": {
     "iopub.execute_input": "2023-04-11T19:08:39.366081Z",
     "iopub.status.busy": "2023-04-11T19:08:39.365713Z",
     "iopub.status.idle": "2023-04-11T19:08:39.372434Z",
     "shell.execute_reply": "2023-04-11T19:08:39.371300Z"
    },
    "papermill": {
     "duration": 0.026047,
     "end_time": "2023-04-11T19:08:39.374710",
     "exception": false,
     "start_time": "2023-04-11T19:08:39.348663",
     "status": "completed"
    },
    "tags": []
   },
   "outputs": [
    {
     "data": {
      "text/plain": [
       "(2225, 2)"
      ]
     },
     "execution_count": 7,
     "metadata": {},
     "output_type": "execute_result"
    }
   ],
   "source": [
    "df.shape"
   ]
  },
  {
   "cell_type": "markdown",
   "id": "ff9c4296",
   "metadata": {
    "papermill": {
     "duration": 0.012734,
     "end_time": "2023-04-11T19:08:39.400182",
     "exception": false,
     "start_time": "2023-04-11T19:08:39.387448",
     "status": "completed"
    },
    "tags": []
   },
   "source": [
    "# Histogram of text frequency"
   ]
  },
  {
   "cell_type": "code",
   "execution_count": 8,
   "id": "8dc5ef02",
   "metadata": {
    "execution": {
     "iopub.execute_input": "2023-04-11T19:08:39.428925Z",
     "iopub.status.busy": "2023-04-11T19:08:39.427214Z",
     "iopub.status.idle": "2023-04-11T19:08:39.489631Z",
     "shell.execute_reply": "2023-04-11T19:08:39.488519Z"
    },
    "papermill": {
     "duration": 0.079226,
     "end_time": "2023-04-11T19:08:39.492572",
     "exception": false,
     "start_time": "2023-04-11T19:08:39.413346",
     "status": "completed"
    },
    "tags": []
   },
   "outputs": [],
   "source": [
    "df['count'] = df['text'].apply(lambda x :len(x.split()))"
   ]
  },
  {
   "cell_type": "code",
   "execution_count": 9,
   "id": "fd9d3ad8",
   "metadata": {
    "execution": {
     "iopub.execute_input": "2023-04-11T19:08:39.521113Z",
     "iopub.status.busy": "2023-04-11T19:08:39.519632Z",
     "iopub.status.idle": "2023-04-11T19:08:39.527649Z",
     "shell.execute_reply": "2023-04-11T19:08:39.526503Z"
    },
    "papermill": {
     "duration": 0.024845,
     "end_time": "2023-04-11T19:08:39.530078",
     "exception": false,
     "start_time": "2023-04-11T19:08:39.505233",
     "status": "completed"
    },
    "tags": []
   },
   "outputs": [
    {
     "data": {
      "text/plain": [
       "4492"
      ]
     },
     "execution_count": 9,
     "metadata": {},
     "output_type": "execute_result"
    }
   ],
   "source": [
    "max(df['count'])"
   ]
  },
  {
   "cell_type": "code",
   "execution_count": 10,
   "id": "8644bac6",
   "metadata": {
    "execution": {
     "iopub.execute_input": "2023-04-11T19:08:39.558784Z",
     "iopub.status.busy": "2023-04-11T19:08:39.557774Z",
     "iopub.status.idle": "2023-04-11T19:08:39.568632Z",
     "shell.execute_reply": "2023-04-11T19:08:39.567404Z"
    },
    "papermill": {
     "duration": 0.027715,
     "end_time": "2023-04-11T19:08:39.571064",
     "exception": false,
     "start_time": "2023-04-11T19:08:39.543349",
     "status": "completed"
    },
    "tags": []
   },
   "outputs": [
    {
     "data": {
      "text/html": [
       "<div>\n",
       "<style scoped>\n",
       "    .dataframe tbody tr th:only-of-type {\n",
       "        vertical-align: middle;\n",
       "    }\n",
       "\n",
       "    .dataframe tbody tr th {\n",
       "        vertical-align: top;\n",
       "    }\n",
       "\n",
       "    .dataframe thead th {\n",
       "        text-align: right;\n",
       "    }\n",
       "</style>\n",
       "<table border=\"1\" class=\"dataframe\">\n",
       "  <thead>\n",
       "    <tr style=\"text-align: right;\">\n",
       "      <th></th>\n",
       "      <th>category</th>\n",
       "      <th>text</th>\n",
       "      <th>count</th>\n",
       "    </tr>\n",
       "  </thead>\n",
       "  <tbody>\n",
       "    <tr>\n",
       "      <th>0</th>\n",
       "      <td>tech</td>\n",
       "      <td>tv future in the hands of viewers with home th...</td>\n",
       "      <td>737</td>\n",
       "    </tr>\n",
       "    <tr>\n",
       "      <th>1</th>\n",
       "      <td>business</td>\n",
       "      <td>worldcom boss  left books alone  former worldc...</td>\n",
       "      <td>300</td>\n",
       "    </tr>\n",
       "    <tr>\n",
       "      <th>2</th>\n",
       "      <td>sport</td>\n",
       "      <td>tigers wary of farrell  gamble  leicester say ...</td>\n",
       "      <td>246</td>\n",
       "    </tr>\n",
       "    <tr>\n",
       "      <th>3</th>\n",
       "      <td>sport</td>\n",
       "      <td>yeading face newcastle in fa cup premiership s...</td>\n",
       "      <td>341</td>\n",
       "    </tr>\n",
       "    <tr>\n",
       "      <th>4</th>\n",
       "      <td>entertainment</td>\n",
       "      <td>ocean s twelve raids box office ocean s twelve...</td>\n",
       "      <td>260</td>\n",
       "    </tr>\n",
       "  </tbody>\n",
       "</table>\n",
       "</div>"
      ],
      "text/plain": [
       "        category                                               text  count\n",
       "0           tech  tv future in the hands of viewers with home th...    737\n",
       "1       business  worldcom boss  left books alone  former worldc...    300\n",
       "2          sport  tigers wary of farrell  gamble  leicester say ...    246\n",
       "3          sport  yeading face newcastle in fa cup premiership s...    341\n",
       "4  entertainment  ocean s twelve raids box office ocean s twelve...    260"
      ]
     },
     "execution_count": 10,
     "metadata": {},
     "output_type": "execute_result"
    }
   ],
   "source": [
    "df.head()"
   ]
  },
  {
   "cell_type": "code",
   "execution_count": 11,
   "id": "f9456e13",
   "metadata": {
    "execution": {
     "iopub.execute_input": "2023-04-11T19:08:39.599687Z",
     "iopub.status.busy": "2023-04-11T19:08:39.599359Z",
     "iopub.status.idle": "2023-04-11T19:08:40.157038Z",
     "shell.execute_reply": "2023-04-11T19:08:40.155979Z"
    },
    "papermill": {
     "duration": 0.574843,
     "end_time": "2023-04-11T19:08:40.159679",
     "exception": false,
     "start_time": "2023-04-11T19:08:39.584836",
     "status": "completed"
    },
    "tags": []
   },
   "outputs": [
    {
     "data": {
      "text/plain": [
       "<Figure size 800x800 with 0 Axes>"
      ]
     },
     "metadata": {},
     "output_type": "display_data"
    },
    {
     "data": {
      "image/png": "[encoded data removed]",
      "text/plain": [
       "<Figure size 500x500 with 1 Axes>"
      ]
     },
     "metadata": {},
     "output_type": "display_data"
    }
   ],
   "source": [
    "plt.figure(figsize=(8,8));\n",
    "sns.displot(df['count']);\n",
    "plt.xlim(0,1000)\n",
    "plt.xlabel(\"the no. of words \",fontsize = 16)\n",
    "plt.title(\"the no. of words in the distrubution \",fontsize = 18)\n",
    "plt.show();"
   ]
  },
  {
   "cell_type": "markdown",
   "id": "27f73338",
   "metadata": {
    "papermill": {
     "duration": 0.012993,
     "end_time": "2023-04-11T19:08:40.186270",
     "exception": false,
     "start_time": "2023-04-11T19:08:40.173277",
     "status": "completed"
    },
    "tags": []
   },
   "source": [
    "# Bar plot for each of the new category"
   ]
  },
  {
   "cell_type": "code",
   "execution_count": 12,
   "id": "aad0d87e",
   "metadata": {
    "execution": {
     "iopub.execute_input": "2023-04-11T19:08:40.213709Z",
     "iopub.status.busy": "2023-04-11T19:08:40.212776Z",
     "iopub.status.idle": "2023-04-11T19:08:40.221484Z",
     "shell.execute_reply": "2023-04-11T19:08:40.220391Z"
    },
    "papermill": {
     "duration": 0.0243,
     "end_time": "2023-04-11T19:08:40.223561",
     "exception": false,
     "start_time": "2023-04-11T19:08:40.199261",
     "status": "completed"
    },
    "tags": []
   },
   "outputs": [
    {
     "data": {
      "text/plain": [
       "Index(['sport', 'business', 'politics', 'tech', 'entertainment'], dtype='object')"
      ]
     },
     "execution_count": 12,
     "metadata": {},
     "output_type": "execute_result"
    }
   ],
   "source": [
    "category_count = df['category'].value_counts()\n",
    "categories = category_count.index\n",
    "categories"
   ]
  },
  {
   "cell_type": "code",
   "execution_count": 13,
   "id": "2419a712",
   "metadata": {
    "execution": {
     "iopub.execute_input": "2023-04-11T19:08:40.250587Z",
     "iopub.status.busy": "2023-04-11T19:08:40.249687Z",
     "iopub.status.idle": "2023-04-11T19:08:40.515938Z",
     "shell.execute_reply": "2023-04-11T19:08:40.514818Z"
    },
    "papermill": {
     "duration": 0.282508,
     "end_time": "2023-04-11T19:08:40.518509",
     "exception": false,
     "start_time": "2023-04-11T19:08:40.236001",
     "status": "completed"
    },
    "tags": []
   },
   "outputs": [
    {
     "data": {
      "image/png": "[encoded data removed]",
      "text/plain": [
       "<Figure size 1200x500 with 1 Axes>"
      ]
     },
     "metadata": {},
     "output_type": "display_data"
    }
   ],
   "source": [
    "fig = plt.figure(figsize=(12,5))\n",
    "ax = fig.add_subplot(111)\n",
    "sns.barplot(x=category_count.index,y=category_count)\n",
    "\n",
    "for a,p in enumerate(ax.patches):\n",
    "    ax.annotate(f\"{categories[a]}\\n\"+format(p.get_height(),'.0f'),xy=(p.get_x() + p.get_width() /2.0 , p.get_height()),xytext=(0,-25),size=13,color='white',ha='center',va='center',textcoords='offset points',bbox=dict(boxstyle='round',facecolor=\"none\",edgecolor='white',alpha=0.5))\n",
    "plt.xlabel('Categories',size=15)\n",
    "plt.ylabel('The Number of News',size=15)\n",
    "plt.title('The number of news by categories',size = 15)\n",
    "plt.show()"
   ]
  },
  {
   "cell_type": "code",
   "execution_count": 14,
   "id": "a371f296",
   "metadata": {
    "execution": {
     "iopub.execute_input": "2023-04-11T19:08:40.549074Z",
     "iopub.status.busy": "2023-04-11T19:08:40.547423Z",
     "iopub.status.idle": "2023-04-11T19:08:40.555769Z",
     "shell.execute_reply": "2023-04-11T19:08:40.554692Z"
    },
    "papermill": {
     "duration": 0.025582,
     "end_time": "2023-04-11T19:08:40.558005",
     "exception": false,
     "start_time": "2023-04-11T19:08:40.532423",
     "status": "completed"
    },
    "tags": []
   },
   "outputs": [
    {
     "data": {
      "text/plain": [
       "array(['tech', 'business', 'sport', 'entertainment', 'politics'],\n",
       "      dtype=object)"
      ]
     },
     "execution_count": 14,
     "metadata": {},
     "output_type": "execute_result"
    }
   ],
   "source": [
    "df['category'].unique()"
   ]
  },
  {
   "cell_type": "code",
   "execution_count": 15,
   "id": "a0908e3f",
   "metadata": {
    "execution": {
     "iopub.execute_input": "2023-04-11T19:08:40.587630Z",
     "iopub.status.busy": "2023-04-11T19:08:40.586169Z",
     "iopub.status.idle": "2023-04-11T19:08:40.598958Z",
     "shell.execute_reply": "2023-04-11T19:08:40.597874Z"
    },
    "papermill": {
     "duration": 0.02976,
     "end_time": "2023-04-11T19:08:40.601080",
     "exception": false,
     "start_time": "2023-04-11T19:08:40.571320",
     "status": "completed"
    },
    "tags": []
   },
   "outputs": [
    {
     "data": {
      "text/html": [
       "<div>\n",
       "<style scoped>\n",
       "    .dataframe tbody tr th:only-of-type {\n",
       "        vertical-align: middle;\n",
       "    }\n",
       "\n",
       "    .dataframe tbody tr th {\n",
       "        vertical-align: top;\n",
       "    }\n",
       "\n",
       "    .dataframe thead th {\n",
       "        text-align: right;\n",
       "    }\n",
       "</style>\n",
       "<table border=\"1\" class=\"dataframe\">\n",
       "  <thead>\n",
       "    <tr style=\"text-align: right;\">\n",
       "      <th></th>\n",
       "      <th>category</th>\n",
       "      <th>text</th>\n",
       "      <th>count</th>\n",
       "      <th>encoded_text</th>\n",
       "    </tr>\n",
       "  </thead>\n",
       "  <tbody>\n",
       "    <tr>\n",
       "      <th>0</th>\n",
       "      <td>tech</td>\n",
       "      <td>tv future in the hands of viewers with home th...</td>\n",
       "      <td>737</td>\n",
       "      <td>4</td>\n",
       "    </tr>\n",
       "    <tr>\n",
       "      <th>1</th>\n",
       "      <td>business</td>\n",
       "      <td>worldcom boss  left books alone  former worldc...</td>\n",
       "      <td>300</td>\n",
       "      <td>0</td>\n",
       "    </tr>\n",
       "    <tr>\n",
       "      <th>2</th>\n",
       "      <td>sport</td>\n",
       "      <td>tigers wary of farrell  gamble  leicester say ...</td>\n",
       "      <td>246</td>\n",
       "      <td>3</td>\n",
       "    </tr>\n",
       "    <tr>\n",
       "      <th>3</th>\n",
       "      <td>sport</td>\n",
       "      <td>yeading face newcastle in fa cup premiership s...</td>\n",
       "      <td>341</td>\n",
       "      <td>3</td>\n",
       "    </tr>\n",
       "    <tr>\n",
       "      <th>4</th>\n",
       "      <td>entertainment</td>\n",
       "      <td>ocean s twelve raids box office ocean s twelve...</td>\n",
       "      <td>260</td>\n",
       "      <td>1</td>\n",
       "    </tr>\n",
       "  </tbody>\n",
       "</table>\n",
       "</div>"
      ],
      "text/plain": [
       "        category                                               text  count  \\\n",
       "0           tech  tv future in the hands of viewers with home th...    737   \n",
       "1       business  worldcom boss  left books alone  former worldc...    300   \n",
       "2          sport  tigers wary of farrell  gamble  leicester say ...    246   \n",
       "3          sport  yeading face newcastle in fa cup premiership s...    341   \n",
       "4  entertainment  ocean s twelve raids box office ocean s twelve...    260   \n",
       "\n",
       "   encoded_text  \n",
       "0             4  \n",
       "1             0  \n",
       "2             3  \n",
       "3             3  \n",
       "4             1  "
      ]
     },
     "execution_count": 15,
     "metadata": {},
     "output_type": "execute_result"
    }
   ],
   "source": [
    "# Encoding category\n",
    "df[\"encoded_text\"] = df[\"category\"].astype('category').cat.codes\n",
    "df.head()"
   ]
  },
  {
   "cell_type": "code",
   "execution_count": 16,
   "id": "234653ba",
   "metadata": {
    "execution": {
     "iopub.execute_input": "2023-04-11T19:08:40.629701Z",
     "iopub.status.busy": "2023-04-11T19:08:40.628809Z",
     "iopub.status.idle": "2023-04-11T19:08:40.641600Z",
     "shell.execute_reply": "2023-04-11T19:08:40.640414Z"
    },
    "papermill": {
     "duration": 0.029331,
     "end_time": "2023-04-11T19:08:40.643697",
     "exception": false,
     "start_time": "2023-04-11T19:08:40.614366",
     "status": "completed"
    },
    "tags": []
   },
   "outputs": [
    {
     "data": {
      "text/html": [
       "<div>\n",
       "<style scoped>\n",
       "    .dataframe tbody tr th:only-of-type {\n",
       "        vertical-align: middle;\n",
       "    }\n",
       "\n",
       "    .dataframe tbody tr th {\n",
       "        vertical-align: top;\n",
       "    }\n",
       "\n",
       "    .dataframe thead th {\n",
       "        text-align: right;\n",
       "    }\n",
       "</style>\n",
       "<table border=\"1\" class=\"dataframe\">\n",
       "  <thead>\n",
       "    <tr style=\"text-align: right;\">\n",
       "      <th></th>\n",
       "      <th>0</th>\n",
       "    </tr>\n",
       "  </thead>\n",
       "  <tbody>\n",
       "    <tr>\n",
       "      <th>business</th>\n",
       "      <td>0</td>\n",
       "    </tr>\n",
       "    <tr>\n",
       "      <th>entertainment</th>\n",
       "      <td>1</td>\n",
       "    </tr>\n",
       "    <tr>\n",
       "      <th>politics</th>\n",
       "      <td>2</td>\n",
       "    </tr>\n",
       "    <tr>\n",
       "      <th>sport</th>\n",
       "      <td>3</td>\n",
       "    </tr>\n",
       "    <tr>\n",
       "      <th>tech</th>\n",
       "      <td>4</td>\n",
       "    </tr>\n",
       "  </tbody>\n",
       "</table>\n",
       "</div>"
      ],
      "text/plain": [
       "               0\n",
       "business       0\n",
       "entertainment  1\n",
       "politics       2\n",
       "sport          3\n",
       "tech           4"
      ]
     },
     "execution_count": 16,
     "metadata": {},
     "output_type": "execute_result"
    }
   ],
   "source": [
    "table_lookup = pd.DataFrame(df.encoded_text.unique(),df.category.unique())\n",
    "table_lookup = table_lookup.sort_values(by=[0])\n",
    "table_lookup"
   ]
  },
  {
   "cell_type": "code",
   "execution_count": 17,
   "id": "3119b6c0",
   "metadata": {
    "execution": {
     "iopub.execute_input": "2023-04-11T19:08:40.673686Z",
     "iopub.status.busy": "2023-04-11T19:08:40.672117Z",
     "iopub.status.idle": "2023-04-11T19:08:40.677638Z",
     "shell.execute_reply": "2023-04-11T19:08:40.676661Z"
    },
    "papermill": {
     "duration": 0.02242,
     "end_time": "2023-04-11T19:08:40.679650",
     "exception": false,
     "start_time": "2023-04-11T19:08:40.657230",
     "status": "completed"
    },
    "tags": []
   },
   "outputs": [],
   "source": [
    "data_texts = df['text'].to_list()\n",
    "data_labels = df['encoded_text'].to_list()"
   ]
  },
  {
   "cell_type": "code",
   "execution_count": 18,
   "id": "e1248049",
   "metadata": {
    "execution": {
     "iopub.execute_input": "2023-04-11T19:08:40.708145Z",
     "iopub.status.busy": "2023-04-11T19:08:40.707243Z",
     "iopub.status.idle": "2023-04-11T19:08:40.715698Z",
     "shell.execute_reply": "2023-04-11T19:08:40.714787Z"
    },
    "papermill": {
     "duration": 0.024903,
     "end_time": "2023-04-11T19:08:40.717764",
     "exception": false,
     "start_time": "2023-04-11T19:08:40.692861",
     "status": "completed"
    },
    "tags": []
   },
   "outputs": [],
   "source": [
    "# Train Test split\n",
    "train_texts,val_texts,train_labels,val_labels= train_test_split(data_texts,data_labels,test_size=0.2,random_state=0)\n",
    "train_texts,test_texts,train_labels,test_labels = train_test_split(train_texts,train_labels,test_size=0.1,random_state=0)"
   ]
  },
  {
   "cell_type": "code",
   "execution_count": 19,
   "id": "b377302c",
   "metadata": {
    "execution": {
     "iopub.execute_input": "2023-04-11T19:08:40.745657Z",
     "iopub.status.busy": "2023-04-11T19:08:40.745381Z",
     "iopub.status.idle": "2023-04-11T19:08:40.751284Z",
     "shell.execute_reply": "2023-04-11T19:08:40.750250Z"
    },
    "papermill": {
     "duration": 0.022507,
     "end_time": "2023-04-11T19:08:40.753355",
     "exception": false,
     "start_time": "2023-04-11T19:08:40.730848",
     "status": "completed"
    },
    "tags": []
   },
   "outputs": [
    {
     "data": {
      "text/plain": [
       "1602"
      ]
     },
     "execution_count": 19,
     "metadata": {},
     "output_type": "execute_result"
    }
   ],
   "source": [
    "len(train_texts)"
   ]
  },
  {
   "cell_type": "code",
   "execution_count": 20,
   "id": "1b2a8b42",
   "metadata": {
    "execution": {
     "iopub.execute_input": "2023-04-11T19:08:40.782035Z",
     "iopub.status.busy": "2023-04-11T19:08:40.781499Z",
     "iopub.status.idle": "2023-04-11T19:08:40.787719Z",
     "shell.execute_reply": "2023-04-11T19:08:40.786722Z"
    },
    "papermill": {
     "duration": 0.022905,
     "end_time": "2023-04-11T19:08:40.789911",
     "exception": false,
     "start_time": "2023-04-11T19:08:40.767006",
     "status": "completed"
    },
    "tags": []
   },
   "outputs": [
    {
     "data": {
      "text/plain": [
       "445"
      ]
     },
     "execution_count": 20,
     "metadata": {},
     "output_type": "execute_result"
    }
   ],
   "source": [
    "len(val_texts)"
   ]
  },
  {
   "cell_type": "code",
   "execution_count": 21,
   "id": "a72e3719",
   "metadata": {
    "execution": {
     "iopub.execute_input": "2023-04-11T19:08:40.818694Z",
     "iopub.status.busy": "2023-04-11T19:08:40.817986Z",
     "iopub.status.idle": "2023-04-11T19:08:40.823718Z",
     "shell.execute_reply": "2023-04-11T19:08:40.822758Z"
    },
    "papermill": {
     "duration": 0.022465,
     "end_time": "2023-04-11T19:08:40.825913",
     "exception": false,
     "start_time": "2023-04-11T19:08:40.803448",
     "status": "completed"
    },
    "tags": []
   },
   "outputs": [
    {
     "data": {
      "text/plain": [
       "178"
      ]
     },
     "execution_count": 21,
     "metadata": {},
     "output_type": "execute_result"
    }
   ],
   "source": [
    "len(test_texts)"
   ]
  },
  {
   "cell_type": "markdown",
   "id": "bab4bd35",
   "metadata": {
    "papermill": {
     "duration": 0.013979,
     "end_time": "2023-04-11T19:08:40.853450",
     "exception": false,
     "start_time": "2023-04-11T19:08:40.839471",
     "status": "completed"
    },
    "tags": []
   },
   "source": [
    "# Model Definition"
   ]
  },
  {
   "cell_type": "code",
   "execution_count": 22,
   "id": "772ae43e",
   "metadata": {
    "execution": {
     "iopub.execute_input": "2023-04-11T19:08:40.883253Z",
     "iopub.status.busy": "2023-04-11T19:08:40.882972Z",
     "iopub.status.idle": "2023-04-11T19:09:07.580947Z",
     "shell.execute_reply": "2023-04-11T19:09:07.579829Z"
    },
    "papermill": {
     "duration": 26.716307,
     "end_time": "2023-04-11T19:09:07.584064",
     "exception": false,
     "start_time": "2023-04-11T19:08:40.867757",
     "status": "completed"
    },
    "tags": []
   },
   "outputs": [
    {
     "data": {
      "application/vnd.jupyter.widget-view+json": {
       "model_id": "fe752b842a8040e98986e89afc83bcd8",
       "version_major": 2,
       "version_minor": 0
      },
      "text/plain": [
       "Downloading (…)solve/main/vocab.txt:   0%|          | 0.00/232k [00:00<?, ?B/s]"
      ]
     },
     "metadata": {},
     "output_type": "display_data"
    },
    {
     "data": {
      "application/vnd.jupyter.widget-view+json": {
       "model_id": "7e7131b1eab248f6bc56edd9a8728da6",
       "version_major": 2,
       "version_minor": 0
      },
      "text/plain": [
       "Downloading (…)okenizer_config.json:   0%|          | 0.00/28.0 [00:00<?, ?B/s]"
      ]
     },
     "metadata": {},
     "output_type": "display_data"
    },
    {
     "data": {
      "application/vnd.jupyter.widget-view+json": {
       "model_id": "8dac69c9601347c5a75108c57c135f15",
       "version_major": 2,
       "version_minor": 0
      },
      "text/plain": [
       "Downloading (…)lve/main/config.json:   0%|          | 0.00/483 [00:00<?, ?B/s]"
      ]
     },
     "metadata": {},
     "output_type": "display_data"
    }
   ],
   "source": [
    "tokenizer = DistilBertTokenizer.from_pretrained('distilbert-base-uncased')\n",
    "\n",
    "train_encodings = tokenizer(train_texts,truncation=True,padding=True)\n",
    "val_encodings = tokenizer(val_texts,truncation=True,padding=True)\n",
    "test_encodings = tokenizer(test_texts,truncation=True,padding=True)"
   ]
  },
  {
   "cell_type": "code",
   "execution_count": 23,
   "id": "4593e947",
   "metadata": {
    "execution": {
     "iopub.execute_input": "2023-04-11T19:09:07.616946Z",
     "iopub.status.busy": "2023-04-11T19:09:07.616542Z",
     "iopub.status.idle": "2023-04-11T19:09:07.623773Z",
     "shell.execute_reply": "2023-04-11T19:09:07.622277Z"
    },
    "papermill": {
     "duration": 0.025934,
     "end_time": "2023-04-11T19:09:07.626137",
     "exception": false,
     "start_time": "2023-04-11T19:09:07.600203",
     "status": "completed"
    },
    "tags": []
   },
   "outputs": [
    {
     "data": {
      "text/plain": [
       "(30522, 512, ['input_ids', 'attention_mask'])"
      ]
     },
     "execution_count": 23,
     "metadata": {},
     "output_type": "execute_result"
    }
   ],
   "source": [
    "tokenizer.vocab_size,tokenizer.model_max_length,tokenizer.model_input_names\n",
    "# 512 is the max an input text can be to the transformer tokenizer  "
   ]
  },
  {
   "cell_type": "markdown",
   "id": "6c6d2972",
   "metadata": {
    "papermill": {
     "duration": 0.014107,
     "end_time": "2023-04-11T19:09:07.655366",
     "exception": false,
     "start_time": "2023-04-11T19:09:07.641259",
     "status": "completed"
    },
    "tags": []
   },
   "source": [
    "### Taking an example to show preprocessing "
   ]
  },
  {
   "cell_type": "code",
   "execution_count": 24,
   "id": "06bd7ae2",
   "metadata": {
    "execution": {
     "iopub.execute_input": "2023-04-11T19:09:07.686921Z",
     "iopub.status.busy": "2023-04-11T19:09:07.685252Z",
     "iopub.status.idle": "2023-04-11T19:09:07.692813Z",
     "shell.execute_reply": "2023-04-11T19:09:07.691853Z"
    },
    "papermill": {
     "duration": 0.025236,
     "end_time": "2023-04-11T19:09:07.694884",
     "exception": false,
     "start_time": "2023-04-11T19:09:07.669648",
     "status": "completed"
    },
    "tags": []
   },
   "outputs": [
    {
     "data": {
      "text/plain": [
       "{'input_ids': [101, 7099, 3793, 102], 'attention_mask': [1, 1, 1, 1]}"
      ]
     },
     "execution_count": 24,
     "metadata": {},
     "output_type": "execute_result"
    }
   ],
   "source": [
    "example = \"Sample Text\"\n",
    "example_encoded_text = tokenizer(example)\n",
    "example_encoded_text"
   ]
  },
  {
   "cell_type": "code",
   "execution_count": 25,
   "id": "078f6352",
   "metadata": {
    "execution": {
     "iopub.execute_input": "2023-04-11T19:09:07.726393Z",
     "iopub.status.busy": "2023-04-11T19:09:07.725416Z",
     "iopub.status.idle": "2023-04-11T19:09:07.732415Z",
     "shell.execute_reply": "2023-04-11T19:09:07.731363Z"
    },
    "papermill": {
     "duration": 0.025081,
     "end_time": "2023-04-11T19:09:07.734501",
     "exception": false,
     "start_time": "2023-04-11T19:09:07.709420",
     "status": "completed"
    },
    "tags": []
   },
   "outputs": [
    {
     "data": {
      "text/plain": [
       "'[CLS] sample text [SEP]'"
      ]
     },
     "execution_count": 25,
     "metadata": {},
     "output_type": "execute_result"
    }
   ],
   "source": [
    "example_tokens = tokenizer.convert_ids_to_tokens(example_encoded_text.input_ids)\n",
    "tokenizer.convert_tokens_to_string(example_tokens)"
   ]
  },
  {
   "cell_type": "code",
   "execution_count": 26,
   "id": "dd16b1ce",
   "metadata": {
    "execution": {
     "iopub.execute_input": "2023-04-11T19:09:07.765764Z",
     "iopub.status.busy": "2023-04-11T19:09:07.764320Z",
     "iopub.status.idle": "2023-04-11T19:09:21.370667Z",
     "shell.execute_reply": "2023-04-11T19:09:21.369583Z"
    },
    "papermill": {
     "duration": 13.624618,
     "end_time": "2023-04-11T19:09:21.373581",
     "exception": false,
     "start_time": "2023-04-11T19:09:07.748963",
     "status": "completed"
    },
    "tags": []
   },
   "outputs": [],
   "source": [
    "train_dataset = tf.data.Dataset.from_tensor_slices((\n",
    "    dict(train_encodings),\n",
    "    train_labels\n",
    "))\n",
    "\n",
    "val_dataset = tf.data.Dataset.from_tensor_slices((\n",
    "    dict(val_encodings),\n",
    "    val_labels\n",
    "))\n",
    "\n",
    "test_set = tf.data.Dataset.from_tensor_slices((\n",
    "    dict(test_encodings),\n",
    "    test_labels\n",
    "))"
   ]
  },
  {
   "cell_type": "code",
   "execution_count": 27,
   "id": "c267bbd7",
   "metadata": {
    "execution": {
     "iopub.execute_input": "2023-04-11T19:09:21.405492Z",
     "iopub.status.busy": "2023-04-11T19:09:21.405189Z",
     "iopub.status.idle": "2023-04-11T19:09:54.997074Z",
     "shell.execute_reply": "2023-04-11T19:09:54.995875Z"
    },
    "papermill": {
     "duration": 33.614567,
     "end_time": "2023-04-11T19:09:55.004417",
     "exception": false,
     "start_time": "2023-04-11T19:09:21.389850",
     "status": "completed"
    },
    "tags": []
   },
   "outputs": [
    {
     "name": "stderr",
     "output_type": "stream",
     "text": [
      "\u001b[34m\u001b[1mwandb\u001b[0m: Currently logged in as: \u001b[33mmdarfan357\u001b[0m. Use \u001b[1m`wandb login --relogin`\u001b[0m to force relogin\n"
     ]
    },
    {
     "data": {
      "text/html": [
       "wandb version 0.14.2 is available!  To upgrade, please run:\n",
       " $ pip install wandb --upgrade"
      ],
      "text/plain": [
       "<IPython.core.display.HTML object>"
      ]
     },
     "metadata": {},
     "output_type": "display_data"
    },
    {
     "data": {
      "text/html": [
       "Tracking run with wandb version 0.14.0"
      ],
      "text/plain": [
       "<IPython.core.display.HTML object>"
      ]
     },
     "metadata": {},
     "output_type": "display_data"
    },
    {
     "data": {
      "text/html": [
       "Run data is saved locally in <code>/kaggle/working/wandb/run-20230411_190924-2o507gkv</code>"
      ],
      "text/plain": [
       "<IPython.core.display.HTML object>"
      ]
     },
     "metadata": {},
     "output_type": "display_data"
    },
    {
     "data": {
      "text/html": [
       "Syncing run <strong><a href='https://wandb.ai/mdarfan357/huggingface/runs/2o507gkv' target=\"_blank\">dauntless-universe-25</a></strong> to <a href='https://wandb.ai/mdarfan357/huggingface' target=\"_blank\">Weights & Biases</a> (<a href='https://wandb.me/run' target=\"_blank\">docs</a>)<br/>"
      ],
      "text/plain": [
       "<IPython.core.display.HTML object>"
      ]
     },
     "metadata": {},
     "output_type": "display_data"
    },
    {
     "data": {
      "text/html": [
       " View project at <a href='https://wandb.ai/mdarfan357/huggingface' target=\"_blank\">https://wandb.ai/mdarfan357/huggingface</a>"
      ],
      "text/plain": [
       "<IPython.core.display.HTML object>"
      ]
     },
     "metadata": {},
     "output_type": "display_data"
    },
    {
     "data": {
      "text/html": [
       " View run at <a href='https://wandb.ai/mdarfan357/huggingface/runs/2o507gkv' target=\"_blank\">https://wandb.ai/mdarfan357/huggingface/runs/2o507gkv</a>"
      ],
      "text/plain": [
       "<IPython.core.display.HTML object>"
      ]
     },
     "metadata": {},
     "output_type": "display_data"
    },
    {
     "data": {
      "text/html": [
       "<button onClick=\"this.nextSibling.style.display='block';this.style.display='none';\">Display W&B run</button><iframe src='https://wandb.ai/mdarfan357/huggingface/runs/2o507gkv?jupyter=true' style='border:none;width:100%;height:420px;display:none;'></iframe>"
      ],
      "text/plain": [
       "<wandb.sdk.wandb_run.Run at 0x715a684e9e50>"
      ]
     },
     "execution_count": 27,
     "metadata": {},
     "output_type": "execute_result"
    }
   ],
   "source": [
    "import wandb\n",
    "from kaggle_secrets import UserSecretsClient\n",
    "user_secrets = UserSecretsClient()\n",
    "WANDB_API_KEY = user_secrets.get_secret(\"WANDB_API_KEY\")\n",
    "\n",
    "os.environ['WANDB_MODE'] = 'online'\n",
    "os.environ[\"WANDB_API_KEY\"] = WANDB_API_KEY\n",
    "wandb.init(project=\"huggingface\")\n",
    "\n"
   ]
  },
  {
   "cell_type": "markdown",
   "id": "02d10bd6",
   "metadata": {
    "papermill": {
     "duration": 0.026605,
     "end_time": "2023-04-11T19:09:55.056460",
     "exception": false,
     "start_time": "2023-04-11T19:09:55.029855",
     "status": "completed"
    },
    "tags": []
   },
   "source": [
    "# Fine Tuning Transformer"
   ]
  },
  {
   "cell_type": "code",
   "execution_count": 28,
   "id": "0a2f7529",
   "metadata": {
    "execution": {
     "iopub.execute_input": "2023-04-11T19:09:55.111824Z",
     "iopub.status.busy": "2023-04-11T19:09:55.111360Z",
     "iopub.status.idle": "2023-04-11T19:10:40.005724Z",
     "shell.execute_reply": "2023-04-11T19:10:40.004728Z"
    },
    "papermill": {
     "duration": 44.926203,
     "end_time": "2023-04-11T19:10:40.009377",
     "exception": false,
     "start_time": "2023-04-11T19:09:55.083174",
     "status": "completed"
    },
    "tags": []
   },
   "outputs": [
    {
     "data": {
      "application/vnd.jupyter.widget-view+json": {
       "model_id": "299d03d669834e1caa37d495d1b8fa10",
       "version_major": 2,
       "version_minor": 0
      },
      "text/plain": [
       "Downloading tf_model.h5:   0%|          | 0.00/363M [00:00<?, ?B/s]"
      ]
     },
     "metadata": {},
     "output_type": "display_data"
    },
    {
     "name": "stderr",
     "output_type": "stream",
     "text": [
      "Some layers from the model checkpoint at distilbert-base-uncased were not used when initializing TFDistilBertForSequenceClassification: ['vocab_projector', 'vocab_transform', 'vocab_layer_norm', 'activation_13']\n",
      "- This IS expected if you are initializing TFDistilBertForSequenceClassification from the checkpoint of a model trained on another task or with another architecture (e.g. initializing a BertForSequenceClassification model from a BertForPreTraining model).\n",
      "- This IS NOT expected if you are initializing TFDistilBertForSequenceClassification from the checkpoint of a model that you expect to be exactly identical (initializing a BertForSequenceClassification model from a BertForSequenceClassification model).\n",
      "Some layers of TFDistilBertForSequenceClassification were not initialized from the model checkpoint at distilbert-base-uncased and are newly initialized: ['pre_classifier', 'dropout_19', 'classifier']\n",
      "You should probably TRAIN this model on a down-stream task to be able to use it for predictions and inference.\n",
      "/opt/conda/lib/python3.7/site-packages/transformers/trainer_tf.py:123: FutureWarning:\n",
      "\n",
      "The class `TFTrainer` is deprecated and will be removed in version 5 of Transformers. We recommend using native Keras instead, by calling methods like `fit()` and `predict()` directly on the model object. Detailed examples of the Keras style can be found in our examples at https://github.com/huggingface/transformers/tree/main/examples/tensorflow\n",
      "\n"
     ]
    },
    {
     "data": {
      "text/html": [
       "Finishing last run (ID:2o507gkv) before initializing another..."
      ],
      "text/plain": [
       "<IPython.core.display.HTML object>"
      ]
     },
     "metadata": {},
     "output_type": "display_data"
    },
    {
     "data": {
      "text/html": [
       "Waiting for W&B process to finish... <strong style=\"color:green\">(success).</strong>"
      ],
      "text/plain": [
       "<IPython.core.display.HTML object>"
      ]
     },
     "metadata": {},
     "output_type": "display_data"
    },
    {
     "data": {
      "application/vnd.jupyter.widget-view+json": {
       "model_id": "2e8d537f7e914eae9538f9d4402fe2b4",
       "version_major": 2,
       "version_minor": 0
      },
      "text/plain": [
       "VBox(children=(Label(value='0.000 MB of 0.000 MB uploaded (0.000 MB deduped)\\r'), FloatProgress(value=1.0, max…"
      ]
     },
     "metadata": {},
     "output_type": "display_data"
    },
    {
     "data": {
      "text/html": [
       " View run <strong style=\"color:#cdcd00\">dauntless-universe-25</strong> at: <a href='https://wandb.ai/mdarfan357/huggingface/runs/2o507gkv' target=\"_blank\">https://wandb.ai/mdarfan357/huggingface/runs/2o507gkv</a><br/>Synced 6 W&B file(s), 0 media file(s), 0 artifact file(s) and 0 other file(s)"
      ],
      "text/plain": [
       "<IPython.core.display.HTML object>"
      ]
     },
     "metadata": {},
     "output_type": "display_data"
    },
    {
     "data": {
      "text/html": [
       "Find logs at: <code>./wandb/run-20230411_190924-2o507gkv/logs</code>"
      ],
      "text/plain": [
       "<IPython.core.display.HTML object>"
      ]
     },
     "metadata": {},
     "output_type": "display_data"
    },
    {
     "data": {
      "text/html": [
       "Successfully finished last run (ID:2o507gkv). Initializing new run:<br/>"
      ],
      "text/plain": [
       "<IPython.core.display.HTML object>"
      ]
     },
     "metadata": {},
     "output_type": "display_data"
    },
    {
     "data": {
      "text/html": [
       "wandb version 0.14.2 is available!  To upgrade, please run:\n",
       " $ pip install wandb --upgrade"
      ],
      "text/plain": [
       "<IPython.core.display.HTML object>"
      ]
     },
     "metadata": {},
     "output_type": "display_data"
    },
    {
     "data": {
      "text/html": [
       "Tracking run with wandb version 0.14.0"
      ],
      "text/plain": [
       "<IPython.core.display.HTML object>"
      ]
     },
     "metadata": {},
     "output_type": "display_data"
    },
    {
     "data": {
      "text/html": [
       "Run data is saved locally in <code>/kaggle/working/wandb/run-20230411_191002-dnmbvd4p</code>"
      ],
      "text/plain": [
       "<IPython.core.display.HTML object>"
      ]
     },
     "metadata": {},
     "output_type": "display_data"
    },
    {
     "data": {
      "text/html": [
       "Syncing run <strong><a href='https://wandb.ai/mdarfan357/huggingface/runs/dnmbvd4p' target=\"_blank\">./results</a></strong> to <a href='https://wandb.ai/mdarfan357/huggingface' target=\"_blank\">Weights & Biases</a> (<a href='https://wandb.me/run' target=\"_blank\">docs</a>)<br/>"
      ],
      "text/plain": [
       "<IPython.core.display.HTML object>"
      ]
     },
     "metadata": {},
     "output_type": "display_data"
    },
    {
     "data": {
      "text/html": [
       " View project at <a href='https://wandb.ai/mdarfan357/huggingface' target=\"_blank\">https://wandb.ai/mdarfan357/huggingface</a>"
      ],
      "text/plain": [
       "<IPython.core.display.HTML object>"
      ]
     },
     "metadata": {},
     "output_type": "display_data"
    },
    {
     "data": {
      "text/html": [
       " View run at <a href='https://wandb.ai/mdarfan357/huggingface/runs/dnmbvd4p' target=\"_blank\">https://wandb.ai/mdarfan357/huggingface/runs/dnmbvd4p</a>"
      ],
      "text/plain": [
       "<IPython.core.display.HTML object>"
      ]
     },
     "metadata": {},
     "output_type": "display_data"
    }
   ],
   "source": [
    "from transformers import TFDistilBertForSequenceClassification,TFTrainer,TFTrainingArguments\n",
    "from sklearn.metrics import ConfusionMatrixDisplay, confusion_matrix, accuracy_score, f1_score\n",
    "\n",
    "# define performance metrics\n",
    "\n",
    "def metrics(pred):\n",
    "  label_prediction = pred.label_ids\n",
    "  preds = pred.predictions.argmax(-1)\n",
    "  f1 = f1_score(label_prediction, preds, average=\"weighted\")\n",
    "  acc = accuracy_score(label_prediction, preds)\n",
    "  return {\"accuracy\": acc, \n",
    "          \"f1\": f1\n",
    "          }\n",
    "\n",
    "training_args = TFTrainingArguments(\n",
    "    output_dir='./results',\n",
    "    num_train_epochs=7,\n",
    "    per_device_train_batch_size=16,\n",
    "    per_device_eval_batch_size=64,\n",
    "    warmup_steps=500,\n",
    "    weight_decay=1e-5,\n",
    "    logging_dir='./logs',\n",
    "    eval_steps=100,\n",
    "    disable_tqdm=False,\n",
    "    evaluation_strategy = \"epoch\", #To calculate metrics per epoch\n",
    "    logging_strategy=\"epoch\", \n",
    ")\n",
    "with training_args.strategy.scope():\n",
    "    trainer_model = TFDistilBertForSequenceClassification.from_pretrained('distilbert-base-uncased',num_labels=5)\n",
    "    \n",
    "trainer = TFTrainer(\n",
    "    model = trainer_model,\n",
    "    args=training_args,\n",
    "    compute_metrics=metrics,\n",
    "    train_dataset=train_dataset,\n",
    "    eval_dataset=val_dataset,\n",
    ")"
   ]
  },
  {
   "cell_type": "code",
   "execution_count": 29,
   "id": "db47fa98",
   "metadata": {
    "execution": {
     "iopub.execute_input": "2023-04-11T19:10:40.069786Z",
     "iopub.status.busy": "2023-04-11T19:10:40.069348Z",
     "iopub.status.idle": "2023-04-11T19:10:40.121369Z",
     "shell.execute_reply": "2023-04-11T19:10:40.120305Z"
    },
    "papermill": {
     "duration": 0.101926,
     "end_time": "2023-04-11T19:10:40.140082",
     "exception": false,
     "start_time": "2023-04-11T19:10:40.038156",
     "status": "completed"
    },
    "tags": []
   },
   "outputs": [
    {
     "name": "stdout",
     "output_type": "stream",
     "text": [
      "Model: \"tf_distil_bert_for_sequence_classification\"\n",
      "_________________________________________________________________\n",
      " Layer (type)                Output Shape              Param #   \n",
      "=================================================================\n",
      " distilbert (TFDistilBertMai  multiple                 66362880  \n",
      " nLayer)                                                         \n",
      "                                                                 \n",
      " pre_classifier (Dense)      multiple                  590592    \n",
      "                                                                 \n",
      " classifier (Dense)          multiple                  3845      \n",
      "                                                                 \n",
      " dropout_19 (Dropout)        multiple                  0         \n",
      "                                                                 \n",
      "=================================================================\n",
      "Total params: 66,957,317\n",
      "Trainable params: 66,957,317\n",
      "Non-trainable params: 0\n",
      "_________________________________________________________________\n"
     ]
    }
   ],
   "source": [
    "trainer_model.summary()"
   ]
  },
  {
   "cell_type": "code",
   "execution_count": 30,
   "id": "76e2ebad",
   "metadata": {
    "execution": {
     "iopub.execute_input": "2023-04-11T19:10:40.204571Z",
     "iopub.status.busy": "2023-04-11T19:10:40.204154Z",
     "iopub.status.idle": "2023-04-11T19:17:15.558967Z",
     "shell.execute_reply": "2023-04-11T19:17:15.557871Z"
    },
    "papermill": {
     "duration": 395.409585,
     "end_time": "2023-04-11T19:17:15.580009",
     "exception": false,
     "start_time": "2023-04-11T19:10:40.170424",
     "status": "completed"
    },
    "tags": []
   },
   "outputs": [
    {
     "name": "stdout",
     "output_type": "stream",
     "text": [
      "CPU times: user 2min 2s, sys: 25.1 s, total: 2min 27s\n",
      "Wall time: 6min 35s\n"
     ]
    }
   ],
   "source": [
    "%%time\n",
    "trainer.train()"
   ]
  },
  {
   "cell_type": "code",
   "execution_count": 31,
   "id": "11be4426",
   "metadata": {
    "execution": {
     "iopub.execute_input": "2023-04-11T19:17:15.617476Z",
     "iopub.status.busy": "2023-04-11T19:17:15.617115Z",
     "iopub.status.idle": "2023-04-11T19:17:23.873059Z",
     "shell.execute_reply": "2023-04-11T19:17:23.871848Z"
    },
    "papermill": {
     "duration": 8.2776,
     "end_time": "2023-04-11T19:17:23.875881",
     "exception": false,
     "start_time": "2023-04-11T19:17:15.598281",
     "status": "completed"
    },
    "tags": []
   },
   "outputs": [
    {
     "data": {
      "text/plain": [
       "{'eval_loss': 0.028161820024251938,\n",
       " 'eval_accuracy': 0.9921875,\n",
       " 'eval_f1': 0.9921768659255898}"
      ]
     },
     "execution_count": 31,
     "metadata": {},
     "output_type": "execute_result"
    }
   ],
   "source": [
    "trainer.evaluate()"
   ]
  },
  {
   "cell_type": "code",
   "execution_count": 32,
   "id": "62353fb9",
   "metadata": {
    "execution": {
     "iopub.execute_input": "2023-04-11T19:17:23.919317Z",
     "iopub.status.busy": "2023-04-11T19:17:23.918646Z",
     "iopub.status.idle": "2023-04-11T19:17:31.368984Z",
     "shell.execute_reply": "2023-04-11T19:17:31.367920Z"
    },
    "papermill": {
     "duration": 7.472947,
     "end_time": "2023-04-11T19:17:31.371524",
     "exception": false,
     "start_time": "2023-04-11T19:17:23.898577",
     "status": "completed"
    },
    "tags": []
   },
   "outputs": [
    {
     "data": {
      "text/plain": [
       "{'eval_loss': 0.02655894123017788,\n",
       " 'eval_accuracy': 0.9932584269662922,\n",
       " 'eval_f1': 0.9932545131357936}"
      ]
     },
     "execution_count": 32,
     "metadata": {},
     "output_type": "execute_result"
    }
   ],
   "source": [
    "pred = trainer.predict(val_dataset)\n",
    "pred.metrics"
   ]
  },
  {
   "cell_type": "code",
   "execution_count": 33,
   "id": "a902cb74",
   "metadata": {
    "execution": {
     "iopub.execute_input": "2023-04-11T19:17:31.410306Z",
     "iopub.status.busy": "2023-04-11T19:17:31.409647Z",
     "iopub.status.idle": "2023-04-11T19:17:31.415672Z",
     "shell.execute_reply": "2023-04-11T19:17:31.414649Z"
    },
    "papermill": {
     "duration": 0.027631,
     "end_time": "2023-04-11T19:17:31.417852",
     "exception": false,
     "start_time": "2023-04-11T19:17:31.390221",
     "status": "completed"
    },
    "tags": []
   },
   "outputs": [],
   "source": [
    "def plot_cm(y_preds, y_true, labels):\n",
    "  cm = confusion_matrix(y_true, y_preds, normalize=\"true\")\n",
    "  fig, ax = plt.subplots(figsize=(6, 6))\n",
    "  disp = ConfusionMatrixDisplay(confusion_matrix=cm, display_labels=labels)\n",
    "  disp.plot(cmap=\"Blues\", values_format=\".2f\", ax=ax, colorbar=False)\n",
    "  plt.title(\"Normalized confusion matrix\")\n",
    "  plt.show()"
   ]
  },
  {
   "cell_type": "code",
   "execution_count": 34,
   "id": "b2be24f4",
   "metadata": {
    "execution": {
     "iopub.execute_input": "2023-04-11T19:17:31.454943Z",
     "iopub.status.busy": "2023-04-11T19:17:31.454629Z",
     "iopub.status.idle": "2023-04-11T19:17:36.052785Z",
     "shell.execute_reply": "2023-04-11T19:17:36.052049Z"
    },
    "papermill": {
     "duration": 4.619112,
     "end_time": "2023-04-11T19:17:36.055035",
     "exception": false,
     "start_time": "2023-04-11T19:17:31.435923",
     "status": "completed"
    },
    "tags": []
   },
   "outputs": [
    {
     "name": "stderr",
     "output_type": "stream",
     "text": [
      "/opt/conda/lib/python3.7/site-packages/matplotlib/text.py:1223: FutureWarning:\n",
      "\n",
      "elementwise comparison failed; returning scalar instead, but in the future will perform elementwise comparison\n",
      "\n"
     ]
    },
    {
     "data": {
      "image/png": "[encoded data removed]",
      "text/plain": [
       "<Figure size 600x600 with 1 Axes>"
      ]
     },
     "metadata": {},
     "output_type": "display_data"
    }
   ],
   "source": [
    "pred = trainer.predict(val_dataset)\n",
    "y_pred = np.argmax(pred.predictions,axis=1)\n",
    "plot_cm(y_pred,val_labels,table_lookup.values)"
   ]
  },
  {
   "cell_type": "markdown",
   "id": "1ea9cb2b",
   "metadata": {
    "papermill": {
     "duration": 0.027496,
     "end_time": "2023-04-11T19:17:36.103242",
     "exception": false,
     "start_time": "2023-04-11T19:17:36.075746",
     "status": "completed"
    },
    "tags": []
   },
   "source": [
    "# Saving and Loading the model "
   ]
  },
  {
   "cell_type": "code",
   "execution_count": 35,
   "id": "494ddd21",
   "metadata": {
    "execution": {
     "iopub.execute_input": "2023-04-11T19:17:36.160879Z",
     "iopub.status.busy": "2023-04-11T19:17:36.160457Z",
     "iopub.status.idle": "2023-04-11T19:17:37.093523Z",
     "shell.execute_reply": "2023-04-11T19:17:37.092535Z"
    },
    "papermill": {
     "duration": 0.956532,
     "end_time": "2023-04-11T19:17:37.096272",
     "exception": false,
     "start_time": "2023-04-11T19:17:36.139740",
     "status": "completed"
    },
    "tags": []
   },
   "outputs": [
    {
     "data": {
      "text/plain": [
       "'/kaggle/working'"
      ]
     },
     "execution_count": 35,
     "metadata": {},
     "output_type": "execute_result"
    }
   ],
   "source": [
    "save_dir = \"/saved_models\"\n",
    "trainer_model.save_pretrained(save_dir)\n",
    "tokenizer.save_pretrained(save_dir)\n",
    "os.getcwd()"
   ]
  },
  {
   "cell_type": "code",
   "execution_count": 36,
   "id": "f3fb9b23",
   "metadata": {
    "execution": {
     "iopub.execute_input": "2023-04-11T19:17:37.138642Z",
     "iopub.status.busy": "2023-04-11T19:17:37.137502Z",
     "iopub.status.idle": "2023-04-11T19:17:37.982072Z",
     "shell.execute_reply": "2023-04-11T19:17:37.980892Z"
    },
    "papermill": {
     "duration": 0.868512,
     "end_time": "2023-04-11T19:17:37.984758",
     "exception": false,
     "start_time": "2023-04-11T19:17:37.116246",
     "status": "completed"
    },
    "tags": []
   },
   "outputs": [
    {
     "name": "stderr",
     "output_type": "stream",
     "text": [
      "Some layers from the model checkpoint at /saved_models were not used when initializing TFDistilBertForSequenceClassification: ['dropout_19']\n",
      "- This IS expected if you are initializing TFDistilBertForSequenceClassification from the checkpoint of a model trained on another task or with another architecture (e.g. initializing a BertForSequenceClassification model from a BertForPreTraining model).\n",
      "- This IS NOT expected if you are initializing TFDistilBertForSequenceClassification from the checkpoint of a model that you expect to be exactly identical (initializing a BertForSequenceClassification model from a BertForSequenceClassification model).\n",
      "Some layers of TFDistilBertForSequenceClassification were not initialized from the model checkpoint at /saved_models and are newly initialized: ['dropout_39']\n",
      "You should probably TRAIN this model on a down-stream task to be able to use it for predictions and inference.\n"
     ]
    }
   ],
   "source": [
    "tokenizer_fine_tuned = DistilBertTokenizer.from_pretrained(save_dir)\n",
    "model_fine_tuned = TFDistilBertForSequenceClassification.from_pretrained(save_dir)"
   ]
  },
  {
   "cell_type": "markdown",
   "id": "33bae68f",
   "metadata": {
    "papermill": {
     "duration": 0.01999,
     "end_time": "2023-04-11T19:17:38.023955",
     "exception": false,
     "start_time": "2023-04-11T19:17:38.003965",
     "status": "completed"
    },
    "tags": []
   },
   "source": [
    "# Testing Process using a single sample"
   ]
  },
  {
   "cell_type": "code",
   "execution_count": 37,
   "id": "f591a42d",
   "metadata": {
    "execution": {
     "iopub.execute_input": "2023-04-11T19:17:38.067752Z",
     "iopub.status.busy": "2023-04-11T19:17:38.067138Z",
     "iopub.status.idle": "2023-04-11T19:17:38.074926Z",
     "shell.execute_reply": "2023-04-11T19:17:38.073191Z"
    },
    "papermill": {
     "duration": 0.034147,
     "end_time": "2023-04-11T19:17:38.078574",
     "exception": false,
     "start_time": "2023-04-11T19:17:38.044427",
     "status": "completed"
    },
    "tags": []
   },
   "outputs": [
    {
     "data": {
      "text/plain": [
       "'dollar hovers around record lows the us dollar hovered close to record lows against the euro on friday as concern grows about the size of the us budget deficit.  analysts predict that the dollar will remain weak in 2005 as investors worry about the state of the us economy. the bush administration s apparent unwillingness to intervene to support the dollar has caused further concern. however  trading has been volatile over the past week because of technical and automated trading and light demand. this has amplified reactions to news  analysts said  adding that they expect markets to become less jumpy in january.  the dollar was trading at $1.3652 versus the euro on friday morning after hitting a fresh record low of $1.3667 on thursday. one dollar bought 102.55 yen.  disappointing business figures from chicago triggered the us currency s weakness on thursday. the national association of purchasing management-chicago said its manufacturing index dropped to 61.2  a bigger fall than expected.  there are no dollar buyers now  especially after the chicago data yesterday   said abn amro s paul mackel. at the same time  german chancellor gerhard schroeder and italian prime minister silvio berlusconi voiced concerns about the strength of the euro. mr berlusconi said the euro s strength was  absolutely worrying  for italian exports. mr schroeder said in a newspaper article that stability in foreign exchange markets required a correction of global economic imbalances. investors will now look towards february s meeting of finance ministers from the g7 industrialised nations in london for clues as to whether central banks will combine forces to stem the dollar s decline.'"
      ]
     },
     "execution_count": 37,
     "metadata": {},
     "output_type": "execute_result"
    }
   ],
   "source": [
    "test_text = test_texts[0]\n",
    "test_text"
   ]
  },
  {
   "cell_type": "code",
   "execution_count": 38,
   "id": "c32da823",
   "metadata": {
    "execution": {
     "iopub.execute_input": "2023-04-11T19:17:38.125703Z",
     "iopub.status.busy": "2023-04-11T19:17:38.125401Z",
     "iopub.status.idle": "2023-04-11T19:17:38.256970Z",
     "shell.execute_reply": "2023-04-11T19:17:38.255814Z"
    },
    "papermill": {
     "duration": 0.158917,
     "end_time": "2023-04-11T19:17:38.259627",
     "exception": false,
     "start_time": "2023-04-11T19:17:38.100710",
     "status": "completed"
    },
    "tags": []
   },
   "outputs": [
    {
     "data": {
      "text/plain": [
       "0"
      ]
     },
     "execution_count": 38,
     "metadata": {},
     "output_type": "execute_result"
    }
   ],
   "source": [
    "predict_input = tokenizer_fine_tuned.encode(\n",
    "    test_text,\n",
    "    truncation=True,\n",
    "    padding=True,\n",
    "    return_tensors=\"tf\"\n",
    ")\n",
    "output = model_fine_tuned(predict_input)[0]\n",
    "prediction_value = tf.argmax(output,axis=1).numpy()[0]\n",
    "prediction_value"
   ]
  },
  {
   "cell_type": "code",
   "execution_count": 39,
   "id": "f21209eb",
   "metadata": {
    "execution": {
     "iopub.execute_input": "2023-04-11T19:17:38.303689Z",
     "iopub.status.busy": "2023-04-11T19:17:38.303021Z",
     "iopub.status.idle": "2023-04-11T19:17:38.312832Z",
     "shell.execute_reply": "2023-04-11T19:17:38.311762Z"
    },
    "papermill": {
     "duration": 0.036435,
     "end_time": "2023-04-11T19:17:38.315021",
     "exception": false,
     "start_time": "2023-04-11T19:17:38.278586",
     "status": "completed"
    },
    "tags": []
   },
   "outputs": [
    {
     "data": {
      "text/plain": [
       "'business'"
      ]
     },
     "execution_count": 39,
     "metadata": {},
     "output_type": "execute_result"
    }
   ],
   "source": [
    "table_lookup.iloc[prediction_value].name"
   ]
  },
  {
   "cell_type": "code",
   "execution_count": 40,
   "id": "cfb4e036",
   "metadata": {
    "execution": {
     "iopub.execute_input": "2023-04-11T19:17:38.357996Z",
     "iopub.status.busy": "2023-04-11T19:17:38.357672Z",
     "iopub.status.idle": "2023-04-11T19:17:42.489938Z",
     "shell.execute_reply": "2023-04-11T19:17:42.488778Z"
    },
    "papermill": {
     "duration": 4.155685,
     "end_time": "2023-04-11T19:17:42.492198",
     "exception": false,
     "start_time": "2023-04-11T19:17:38.336513",
     "status": "completed"
    },
    "tags": []
   },
   "outputs": [
    {
     "name": "stderr",
     "output_type": "stream",
     "text": [
      "/opt/conda/lib/python3.7/site-packages/matplotlib/text.py:1223: FutureWarning:\n",
      "\n",
      "elementwise comparison failed; returning scalar instead, but in the future will perform elementwise comparison\n",
      "\n"
     ]
    },
    {
     "data": {
      "image/png": "[encoded data removed]",
      "text/plain": [
       "<Figure size 600x600 with 1 Axes>"
      ]
     },
     "metadata": {},
     "output_type": "display_data"
    }
   ],
   "source": [
    "pred = trainer.predict(test_set)\n",
    "y_pred = np.argmax(pred.predictions,axis=1)\n",
    "plot_cm(y_pred,test_labels,table_lookup.values)"
   ]
  },
  {
   "cell_type": "markdown",
   "id": "80de3ff2",
   "metadata": {
    "papermill": {
     "duration": 0.019127,
     "end_time": "2023-04-11T19:17:42.531484",
     "exception": false,
     "start_time": "2023-04-11T19:17:42.512357",
     "status": "completed"
    },
    "tags": []
   },
   "source": [
    "# Inferencing with Pytorch"
   ]
  },
  {
   "cell_type": "code",
   "execution_count": 41,
   "id": "e44d7c28",
   "metadata": {
    "execution": {
     "iopub.execute_input": "2023-04-11T19:17:42.572486Z",
     "iopub.status.busy": "2023-04-11T19:17:42.571576Z",
     "iopub.status.idle": "2023-04-11T19:17:44.391588Z",
     "shell.execute_reply": "2023-04-11T19:17:44.390533Z"
    },
    "papermill": {
     "duration": 1.843151,
     "end_time": "2023-04-11T19:17:44.394307",
     "exception": false,
     "start_time": "2023-04-11T19:17:42.551156",
     "status": "completed"
    },
    "tags": []
   },
   "outputs": [
    {
     "name": "stderr",
     "output_type": "stream",
     "text": [
      "All TF 2.0 model weights were used when initializing DistilBertForSequenceClassification.\n",
      "\n",
      "All the weights of DistilBertForSequenceClassification were initialized from the TF 2.0 model.\n",
      "If your task is similar to the task the model of the checkpoint was trained on, you can already use DistilBertForSequenceClassification for predictions without further training.\n"
     ]
    }
   ],
   "source": [
    "import torch\n",
    "from transformers import DistilBertForSequenceClassification\n",
    "\n",
    "tokenizer = DistilBertTokenizer.from_pretrained(save_dir)\n",
    "model = DistilBertForSequenceClassification.from_pretrained(save_dir,from_tf=True)"
   ]
  },
  {
   "cell_type": "code",
   "execution_count": 42,
   "id": "1b82b6c9",
   "metadata": {
    "execution": {
     "iopub.execute_input": "2023-04-11T19:17:44.440140Z",
     "iopub.status.busy": "2023-04-11T19:17:44.439757Z",
     "iopub.status.idle": "2023-04-11T19:17:45.061156Z",
     "shell.execute_reply": "2023-04-11T19:17:45.059887Z"
    },
    "papermill": {
     "duration": 0.646574,
     "end_time": "2023-04-11T19:17:45.063739",
     "exception": false,
     "start_time": "2023-04-11T19:17:44.417165",
     "status": "completed"
    },
    "tags": []
   },
   "outputs": [
    {
     "data": {
      "text/plain": [
       "0"
      ]
     },
     "execution_count": 42,
     "metadata": {},
     "output_type": "execute_result"
    }
   ],
   "source": [
    "predict_input = tokenizer.encode(\n",
    "    test_text,\n",
    "    truncation=True,\n",
    "    padding=True,\n",
    "    return_tensors=\"pt\"\n",
    ")\n",
    "output = model(predict_input)\n",
    "prediction_value = torch.argmax(output[0],dim=1).item()\n",
    "prediction_value"
   ]
  },
  {
   "cell_type": "code",
   "execution_count": 43,
   "id": "cfc5b196",
   "metadata": {
    "execution": {
     "iopub.execute_input": "2023-04-11T19:17:45.107794Z",
     "iopub.status.busy": "2023-04-11T19:17:45.107466Z",
     "iopub.status.idle": "2023-04-11T19:17:45.113996Z",
     "shell.execute_reply": "2023-04-11T19:17:45.112978Z"
    },
    "papermill": {
     "duration": 0.030768,
     "end_time": "2023-04-11T19:17:45.116062",
     "exception": false,
     "start_time": "2023-04-11T19:17:45.085294",
     "status": "completed"
    },
    "tags": []
   },
   "outputs": [
    {
     "data": {
      "text/plain": [
       "'business'"
      ]
     },
     "execution_count": 43,
     "metadata": {},
     "output_type": "execute_result"
    }
   ],
   "source": [
    "table_lookup.iloc[prediction_value].name"
   ]
  },
  {
   "cell_type": "markdown",
   "id": "89131b41",
   "metadata": {
    "papermill": {
     "duration": 0.019939,
     "end_time": "2023-04-11T19:17:45.155285",
     "exception": false,
     "start_time": "2023-04-11T19:17:45.135346",
     "status": "completed"
    },
    "tags": []
   },
   "source": [
    "# Testing on custom inputs"
   ]
  },
  {
   "cell_type": "code",
   "execution_count": 44,
   "id": "1f57cb34",
   "metadata": {
    "execution": {
     "iopub.execute_input": "2023-04-11T19:17:45.197249Z",
     "iopub.status.busy": "2023-04-11T19:17:45.196315Z",
     "iopub.status.idle": "2023-04-11T19:17:45.308735Z",
     "shell.execute_reply": "2023-04-11T19:17:45.307623Z"
    },
    "papermill": {
     "duration": 0.135972,
     "end_time": "2023-04-11T19:17:45.311188",
     "exception": false,
     "start_time": "2023-04-11T19:17:45.175216",
     "status": "completed"
    },
    "tags": []
   },
   "outputs": [
    {
     "data": {
      "text/plain": [
       "'sport'"
      ]
     },
     "execution_count": 44,
     "metadata": {},
     "output_type": "execute_result"
    }
   ],
   "source": [
    "# sports\n",
    "test_text = \"RCB vs MI Highlights: Virat Kohli, Faf du Plessis help Royal Challengers Bangalore brush aside Mumbai Indians for first win\"\n",
    "predict_input = tokenizer_fine_tuned.encode(\n",
    "    test_text,\n",
    "    truncation=True,\n",
    "    padding=True,\n",
    "    return_tensors=\"tf\"\n",
    ")\n",
    "output = model_fine_tuned(predict_input)[0]\n",
    "prediction_value = tf.argmax(output,axis=1).numpy()[0]\n",
    "table_lookup.iloc[prediction_value].name"
   ]
  },
  {
   "cell_type": "code",
   "execution_count": 45,
   "id": "5312ffa0",
   "metadata": {
    "execution": {
     "iopub.execute_input": "2023-04-11T19:17:45.351472Z",
     "iopub.status.busy": "2023-04-11T19:17:45.351166Z",
     "iopub.status.idle": "2023-04-11T19:17:45.459484Z",
     "shell.execute_reply": "2023-04-11T19:17:45.458323Z"
    },
    "papermill": {
     "duration": 0.131605,
     "end_time": "2023-04-11T19:17:45.462044",
     "exception": false,
     "start_time": "2023-04-11T19:17:45.330439",
     "status": "completed"
    },
    "tags": []
   },
   "outputs": [
    {
     "data": {
      "text/plain": [
       "'entertainment'"
      ]
     },
     "execution_count": 45,
     "metadata": {},
     "output_type": "execute_result"
    }
   ],
   "source": [
    "# entertainment\n",
    "test_text = \"Priyanka Chopra and Karan Johar hug each other at NMACC event after Priyanka whispers in husband Nick Jonas’ ear\"\n",
    "test_text = \"A star is reborn: Zeenat Aman\"\n",
    "predict_input = tokenizer_fine_tuned.encode(\n",
    "    test_text,\n",
    "    truncation=True,\n",
    "    padding=True,\n",
    "    return_tensors=\"tf\"\n",
    ")\n",
    "output = model_fine_tuned(predict_input)[0]\n",
    "prediction_value = tf.argmax(output,axis=1).numpy()[0]\n",
    "table_lookup.iloc[prediction_value].name"
   ]
  },
  {
   "cell_type": "code",
   "execution_count": 46,
   "id": "7fbea0a5",
   "metadata": {
    "execution": {
     "iopub.execute_input": "2023-04-11T19:17:45.502686Z",
     "iopub.status.busy": "2023-04-11T19:17:45.502396Z",
     "iopub.status.idle": "2023-04-11T19:17:45.615728Z",
     "shell.execute_reply": "2023-04-11T19:17:45.614839Z"
    },
    "papermill": {
     "duration": 0.136362,
     "end_time": "2023-04-11T19:17:45.618221",
     "exception": false,
     "start_time": "2023-04-11T19:17:45.481859",
     "status": "completed"
    },
    "tags": []
   },
   "outputs": [
    {
     "data": {
      "text/plain": [
       "'tech'"
      ]
     },
     "execution_count": 46,
     "metadata": {},
     "output_type": "execute_result"
    }
   ],
   "source": [
    "# tech\n",
    "test_text = \"An AI researcher who has been warning about the technology for over 20 years says we should 'shut it all down,' and issue an 'indefinite and worldwide' ban\"\n",
    "test_text = \"Astronomers discover flattest explosion ever seen in space\"\n",
    "test_text = 'Indian start-ups may take legal route against Google in-app billing'\n",
    "predict_input = tokenizer_fine_tuned.encode(\n",
    "    test_text,\n",
    "    truncation=True,\n",
    "    padding=True,\n",
    "    return_tensors=\"tf\"\n",
    ")\n",
    "output = model_fine_tuned(predict_input)[0]\n",
    "prediction_value = tf.argmax(output,axis=1).numpy()[0]\n",
    "table_lookup.iloc[prediction_value].name"
   ]
  },
  {
   "cell_type": "code",
   "execution_count": 47,
   "id": "11c4843f",
   "metadata": {
    "execution": {
     "iopub.execute_input": "2023-04-11T19:17:45.659719Z",
     "iopub.status.busy": "2023-04-11T19:17:45.659409Z",
     "iopub.status.idle": "2023-04-11T19:17:45.766377Z",
     "shell.execute_reply": "2023-04-11T19:17:45.765267Z"
    },
    "papermill": {
     "duration": 0.130149,
     "end_time": "2023-04-11T19:17:45.768861",
     "exception": false,
     "start_time": "2023-04-11T19:17:45.638712",
     "status": "completed"
    },
    "tags": []
   },
   "outputs": [
    {
     "data": {
      "text/plain": [
       "'politics'"
      ]
     },
     "execution_count": 47,
     "metadata": {},
     "output_type": "execute_result"
    }
   ],
   "source": [
    "# politics\n",
    "test_text = \"BJP to organise protests across Rajasthan to corner Congress govt\"\n",
    "predict_input = tokenizer_fine_tuned.encode(\n",
    "    test_text,\n",
    "    truncation=True,\n",
    "    padding=True,\n",
    "    return_tensors=\"tf\"\n",
    ")\n",
    "output = model_fine_tuned(predict_input)[0]\n",
    "prediction_value = tf.argmax(output,axis=1).numpy()[0]\n",
    "table_lookup.iloc[prediction_value].name"
   ]
  },
  {
   "cell_type": "code",
   "execution_count": 48,
   "id": "8c81fcce",
   "metadata": {
    "execution": {
     "iopub.execute_input": "2023-04-11T19:17:45.813296Z",
     "iopub.status.busy": "2023-04-11T19:17:45.813006Z",
     "iopub.status.idle": "2023-04-11T19:17:45.919837Z",
     "shell.execute_reply": "2023-04-11T19:17:45.918831Z"
    },
    "papermill": {
     "duration": 0.132194,
     "end_time": "2023-04-11T19:17:45.922291",
     "exception": false,
     "start_time": "2023-04-11T19:17:45.790097",
     "status": "completed"
    },
    "tags": []
   },
   "outputs": [
    {
     "data": {
      "text/plain": [
       "'business'"
      ]
     },
     "execution_count": 48,
     "metadata": {},
     "output_type": "execute_result"
    }
   ],
   "source": [
    "test_text = \"MPC may raise rate by another 25 bps as inflation woes persist: BS Poll\"\n",
    "test_text = 'RBI likely to hike benchmark interest rate by 25 bps on April 6'\n",
    "predict_input = tokenizer_fine_tuned.encode(\n",
    "    test_text,\n",
    "    truncation=True,\n",
    "    padding=True,\n",
    "    return_tensors=\"tf\"\n",
    ")\n",
    "output = model_fine_tuned(predict_input)[0]\n",
    "prediction_value = tf.argmax(output,axis=1).numpy()[0]\n",
    "table_lookup.iloc[prediction_value].name"
   ]
  },
  {
   "cell_type": "code",
   "execution_count": 49,
   "id": "e3658378",
   "metadata": {
    "execution": {
     "iopub.execute_input": "2023-04-11T19:17:45.964480Z",
     "iopub.status.busy": "2023-04-11T19:17:45.963520Z",
     "iopub.status.idle": "2023-04-11T19:17:47.080440Z",
     "shell.execute_reply": "2023-04-11T19:17:47.078910Z"
    },
    "papermill": {
     "duration": 1.141291,
     "end_time": "2023-04-11T19:17:47.083519",
     "exception": false,
     "start_time": "2023-04-11T19:17:45.942228",
     "status": "completed"
    },
    "tags": []
   },
   "outputs": [],
   "source": [
    "!mkdir /kaggle/working/BERT/"
   ]
  },
  {
   "cell_type": "markdown",
   "id": "1c7c946a",
   "metadata": {
    "papermill": {
     "duration": 0.038401,
     "end_time": "2023-04-11T19:17:47.152855",
     "exception": false,
     "start_time": "2023-04-11T19:17:47.114454",
     "status": "completed"
    },
    "tags": []
   },
   "source": [
    "# Saving the model"
   ]
  },
  {
   "cell_type": "code",
   "execution_count": 50,
   "id": "b8ab7fda",
   "metadata": {
    "execution": {
     "iopub.execute_input": "2023-04-11T19:17:47.196324Z",
     "iopub.status.busy": "2023-04-11T19:17:47.195908Z",
     "iopub.status.idle": "2023-04-11T19:18:06.825995Z",
     "shell.execute_reply": "2023-04-11T19:18:06.824717Z"
    },
    "papermill": {
     "duration": 19.655923,
     "end_time": "2023-04-11T19:18:06.829169",
     "exception": false,
     "start_time": "2023-04-11T19:17:47.173246",
     "status": "completed"
    },
    "tags": []
   },
   "outputs": [],
   "source": [
    "path = '/kaggle/working/BERT'\n",
    "model_fine_tuned.save(path,save_format='tf')\n",
    "\n",
    "\n"
   ]
  },
  {
   "cell_type": "code",
   "execution_count": null,
   "id": "8eaf6402",
   "metadata": {
    "papermill": {
     "duration": 0.020193,
     "end_time": "2023-04-11T19:18:06.870138",
     "exception": false,
     "start_time": "2023-04-11T19:18:06.849945",
     "status": "completed"
    },
    "tags": []
   },
   "outputs": [],
   "source": []
  }
 ],
 "metadata": {
  "kernelspec": {
   "display_name": "Python 3",
   "language": "python",
   "name": "python3"
  },
  "language_info": {
   "codemirror_mode": {
    "name": "ipython",
    "version": 3
   },
   "file_extension": ".py",
   "mimetype": "text/x-python",
   "name": "python",
   "nbconvert_exporter": "python",
   "pygments_lexer": "ipython3",
   "version": "3.7.12"
  },
  "papermill": {
   "default_parameters": {},
   "duration": 606.214294,
   "end_time": "2023-04-11T19:18:10.026253",
   "environment_variables": {},
   "exception": null,
   "input_path": "__notebook__.ipynb",
   "output_path": "__notebook__.ipynb",
   "parameters": {},
   "start_time": "2023-04-11T19:08:03.811959",
   "version": "2.4.0"
  },
  "widgets": {
   "application/vnd.jupyter.widget-state+json": {
    "state": {
     "0216e9a3ad294ff99c0609f3a2844bf8": {
      "model_module": "@jupyter-widgets/controls",
      "model_module_version": "1.5.0",
      "model_name": "DescriptionStyleModel",
      "state": {
       "_model_module": "@jupyter-widgets/controls",
       "_model_module_version": "1.5.0",
       "_model_name": "DescriptionStyleModel",
       "_view_count": null,
       "_view_module": "@jupyter-widgets/base",
       "_view_module_version": "1.2.0",
       "_view_name": "StyleView",
       "description_width": ""
      }
     },
     "0394dbfc0aa741fbbea5b7ccf201e048": {
      "model_module": "@jupyter-widgets/base",
      "model_module_version": "1.2.0",
      "model_name": "LayoutModel",
      "state": {
       "_model_module": "@jupyter-widgets/base",
       "_model_module_version": "1.2.0",
       "_model_name": "LayoutModel",
       "_view_count": null,
       "_view_module": "@jupyter-widgets/base",
       "_view_module_version": "1.2.0",
       "_view_name": "LayoutView",
       "align_content": null,
       "align_items": null,
       "align_self": null,
       "border": null,
       "bottom": null,
       "display": null,
       "flex": null,
       "flex_flow": null,
       "grid_area": null,
       "grid_auto_columns": null,
       "grid_auto_flow": null,
       "grid_auto_rows": null,
       "grid_column": null,
       "grid_gap": null,
       "grid_row": null,
       "grid_template_areas": null,
       "grid_template_columns": null,
       "grid_template_rows": null,
       "height": null,
       "justify_content": null,
       "justify_items": null,
       "left": null,
       "margin": null,
       "max_height": null,
       "max_width": null,
       "min_height": null,
       "min_width": null,
       "object_fit": null,
       "object_position": null,
       "order": null,
       "overflow": null,
       "overflow_x": null,
       "overflow_y": null,
       "padding": null,
       "right": null,
       "top": null,
       "visibility": null,
       "width": null
      }
     },
     "07082e5338ec440bbf0a6a8dc707fbf9": {
      "model_module": "@jupyter-widgets/controls",
      "model_module_version": "1.5.0",
      "model_name": "FloatProgressModel",
      "state": {
       "_dom_classes": [],
       "_model_module": "@jupyter-widgets/controls",
       "_model_module_version": "1.5.0",
       "_model_name": "FloatProgressModel",
       "_view_count": null,
       "_view_module": "@jupyter-widgets/controls",
       "_view_module_version": "1.5.0",
       "_view_name": "ProgressView",
       "bar_style": "success",
       "description": "",
       "description_tooltip": null,
       "layout": "IPY_MODEL_4649624ac9ee4db585390b1228620251",
       "max": 231508.0,
       "min": 0.0,
       "orientation": "horizontal",
       "style": "IPY_MODEL_655985c205464addbccbe515f4df907b",
       "value": 231508.0
      }
     },
     "0921e3d96ba045e894c3eceb44ba8934": {
      "model_module": "@jupyter-widgets/base",
      "model_module_version": "1.2.0",
      "model_name": "LayoutModel",
      "state": {
       "_model_module": "@jupyter-widgets/base",
       "_model_module_version": "1.2.0",
       "_model_name": "LayoutModel",
       "_view_count": null,
       "_view_module": "@jupyter-widgets/base",
       "_view_module_version": "1.2.0",
       "_view_name": "LayoutView",
       "align_content": null,
       "align_items": null,
       "align_self": null,
       "border": null,
       "bottom": null,
       "display": null,
       "flex": null,
       "flex_flow": null,
       "grid_area": null,
       "grid_auto_columns": null,
       "grid_auto_flow": null,
       "grid_auto_rows": null,
       "grid_column": null,
       "grid_gap": null,
       "grid_row": null,
       "grid_template_areas": null,
       "grid_template_columns": null,
       "grid_template_rows": null,
       "height": null,
       "justify_content": null,
       "justify_items": null,
       "left": null,
       "margin": null,
       "max_height": null,
       "max_width": null,
       "min_height": null,
       "min_width": null,
       "object_fit": null,
       "object_position": null,
       "order": null,
       "overflow": null,
       "overflow_x": null,
       "overflow_y": null,
       "padding": null,
       "right": null,
       "top": null,
       "visibility": null,
       "width": null
      }
     },
     "09e499a8b065469b89e53535d2748a2d": {
      "model_module": "@jupyter-widgets/controls",
      "model_module_version": "1.5.0",
      "model_name": "HTMLModel",
      "state": {
       "_dom_classes": [],
       "_model_module": "@jupyter-widgets/controls",
       "_model_module_version": "1.5.0",
       "_model_name": "HTMLModel",
       "_view_count": null,
       "_view_module": "@jupyter-widgets/controls",
       "_view_module_version": "1.5.0",
       "_view_name": "HTMLView",
       "description": "",
       "description_tooltip": null,
       "layout": "IPY_MODEL_b96e306b6821449780f21251bc495098",
       "placeholder": "​",
       "style": "IPY_MODEL_f20fe0e351604bec92ef4448b0c94021",
       "value": " 232k/232k [00:00&lt;00:00, 4.34MB/s]"
      }
     },
     "0d83fb5ebb394dffbdc28c99bd117a7f": {
      "model_module": "@jupyter-widgets/controls",
      "model_module_version": "1.5.0",
      "model_name": "ProgressStyleModel",
      "state": {
       "_model_module": "@jupyter-widgets/controls",
       "_model_module_version": "1.5.0",
       "_model_name": "ProgressStyleModel",
       "_view_count": null,
       "_view_module": "@jupyter-widgets/base",
       "_view_module_version": "1.2.0",
       "_view_name": "StyleView",
       "bar_color": null,
       "description_width": ""
      }
     },
     "12e256cc8a8c4a938582ee87d3ba25a6": {
      "model_module": "@jupyter-widgets/controls",
      "model_module_version": "1.5.0",
      "model_name": "HTMLModel",
      "state": {
       "_dom_classes": [],
       "_model_module": "@jupyter-widgets/controls",
       "_model_module_version": "1.5.0",
       "_model_name": "HTMLModel",
       "_view_count": null,
       "_view_module": "@jupyter-widgets/controls",
       "_view_module_version": "1.5.0",
       "_view_name": "HTMLView",
       "description": "",
       "description_tooltip": null,
       "layout": "IPY_MODEL_177fef7c17b749888e02bd6e4fe89477",
       "placeholder": "​",
       "style": "IPY_MODEL_5cbdb16551d749cd98fbc530e8dff6e8",
       "value": "Downloading (…)lve/main/config.json: 100%"
      }
     },
     "13c9856a18794f96aa048542cde46b1d": {
      "model_module": "@jupyter-widgets/base",
      "model_module_version": "1.2.0",
      "model_name": "LayoutModel",
      "state": {
       "_model_module": "@jupyter-widgets/base",
       "_model_module_version": "1.2.0",
       "_model_name": "LayoutModel",
       "_view_count": null,
       "_view_module": "@jupyter-widgets/base",
       "_view_module_version": "1.2.0",
       "_view_name": "LayoutView",
       "align_content": null,
       "align_items": null,
       "align_self": null,
       "border": null,
       "bottom": null,
       "display": null,
       "flex": null,
       "flex_flow": null,
       "grid_area": null,
       "grid_auto_columns": null,
       "grid_auto_flow": null,
       "grid_auto_rows": null,
       "grid_column": null,
       "grid_gap": null,
       "grid_row": null,
       "grid_template_areas": null,
       "grid_template_columns": null,
       "grid_template_rows": null,
       "height": null,
       "justify_content": null,
       "justify_items": null,
       "left": null,
       "margin": null,
       "max_height": null,
       "max_width": null,
       "min_height": null,
       "min_width": null,
       "object_fit": null,
       "object_position": null,
       "order": null,
       "overflow": null,
       "overflow_x": null,
       "overflow_y": null,
       "padding": null,
       "right": null,
       "top": null,
       "visibility": null,
       "width": null
      }
     },
     "1487b2dc4c60433ba1ffc95130f1b8af": {
      "model_module": "@jupyter-widgets/controls",
      "model_module_version": "1.5.0",
      "model_name": "ProgressStyleModel",
      "state": {
       "_model_module": "@jupyter-widgets/controls",
       "_model_module_version": "1.5.0",
       "_model_name": "ProgressStyleModel",
       "_view_count": null,
       "_view_module": "@jupyter-widgets/base",
       "_view_module_version": "1.2.0",
       "_view_name": "StyleView",
       "bar_color": null,
       "description_width": ""
      }
     },
     "177fef7c17b749888e02bd6e4fe89477": {
      "model_module": "@jupyter-widgets/base",
      "model_module_version": "1.2.0",
      "model_name": "LayoutModel",
      "state": {
       "_model_module": "@jupyter-widgets/base",
       "_model_module_version": "1.2.0",
       "_model_name": "LayoutModel",
       "_view_count": null,
       "_view_module": "@jupyter-widgets/base",
       "_view_module_version": "1.2.0",
       "_view_name": "LayoutView",
       "align_content": null,
       "align_items": null,
       "align_self": null,
       "border": null,
       "bottom": null,
       "display": null,
       "flex": null,
       "flex_flow": null,
       "grid_area": null,
       "grid_auto_columns": null,
       "grid_auto_flow": null,
       "grid_auto_rows": null,
       "grid_column": null,
       "grid_gap": null,
       "grid_row": null,
       "grid_template_areas": null,
       "grid_template_columns": null,
       "grid_template_rows": null,
       "height": null,
       "justify_content": null,
       "justify_items": null,
       "left": null,
       "margin": null,
       "max_height": null,
       "max_width": null,
       "min_height": null,
       "min_width": null,
       "object_fit": null,
       "object_position": null,
       "order": null,
       "overflow": null,
       "overflow_x": null,
       "overflow_y": null,
       "padding": null,
       "right": null,
       "top": null,
       "visibility": null,
       "width": null
      }
     },
     "182d19cf3ef840b3b77c0cbb1770d136": {
      "model_module": "@jupyter-widgets/base",
      "model_module_version": "1.2.0",
      "model_name": "LayoutModel",
      "state": {
       "_model_module": "@jupyter-widgets/base",
       "_model_module_version": "1.2.0",
       "_model_name": "LayoutModel",
       "_view_count": null,
       "_view_module": "@jupyter-widgets/base",
       "_view_module_version": "1.2.0",
       "_view_name": "LayoutView",
       "align_content": null,
       "align_items": null,
       "align_self": null,
       "border": null,
       "bottom": null,
       "display": null,
       "flex": null,
       "flex_flow": null,
       "grid_area": null,
       "grid_auto_columns": null,
       "grid_auto_flow": null,
       "grid_auto_rows": null,
       "grid_column": null,
       "grid_gap": null,
       "grid_row": null,
       "grid_template_areas": null,
       "grid_template_columns": null,
       "grid_template_rows": null,
       "height": null,
       "justify_content": null,
       "justify_items": null,
       "left": null,
       "margin": null,
       "max_height": null,
       "max_width": null,
       "min_height": null,
       "min_width": null,
       "object_fit": null,
       "object_position": null,
       "order": null,
       "overflow": null,
       "overflow_x": null,
       "overflow_y": null,
       "padding": null,
       "right": null,
       "top": null,
       "visibility": null,
       "width": null
      }
     },
     "1bceb6cc8ffd45d7a829942b9eb1a390": {
      "model_module": "@jupyter-widgets/base",
      "model_module_version": "1.2.0",
      "model_name": "LayoutModel",
      "state": {
       "_model_module": "@jupyter-widgets/base",
       "_model_module_version": "1.2.0",
       "_model_name": "LayoutModel",
       "_view_count": null,
       "_view_module": "@jupyter-widgets/base",
       "_view_module_version": "1.2.0",
       "_view_name": "LayoutView",
       "align_content": null,
       "align_items": null,
       "align_self": null,
       "border": null,
       "bottom": null,
       "display": null,
       "flex": null,
       "flex_flow": null,
       "grid_area": null,
       "grid_auto_columns": null,
       "grid_auto_flow": null,
       "grid_auto_rows": null,
       "grid_column": null,
       "grid_gap": null,
       "grid_row": null,
       "grid_template_areas": null,
       "grid_template_columns": null,
       "grid_template_rows": null,
       "height": null,
       "justify_content": null,
       "justify_items": null,
       "left": null,
       "margin": null,
       "max_height": null,
       "max_width": null,
       "min_height": null,
       "min_width": null,
       "object_fit": null,
       "object_position": null,
       "order": null,
       "overflow": null,
       "overflow_x": null,
       "overflow_y": null,
       "padding": null,
       "right": null,
       "top": null,
       "visibility": null,
       "width": null
      }
     },
     "22ff6995d3104285a8c767a423a1a3e1": {
      "model_module": "@jupyter-widgets/controls",
      "model_module_version": "1.5.0",
      "model_name": "HTMLModel",
      "state": {
       "_dom_classes": [],
       "_model_module": "@jupyter-widgets/controls",
       "_model_module_version": "1.5.0",
       "_model_name": "HTMLModel",
       "_view_count": null,
       "_view_module": "@jupyter-widgets/controls",
       "_view_module_version": "1.5.0",
       "_view_name": "HTMLView",
       "description": "",
       "description_tooltip": null,
       "layout": "IPY_MODEL_0921e3d96ba045e894c3eceb44ba8934",
       "placeholder": "​",
       "style": "IPY_MODEL_d8ad8b1810dc4d2ab891c270a6bc048e",
       "value": " 363M/363M [00:02&lt;00:00, 192MB/s]"
      }
     },
     "269561f4d1df4bb6a4692744dca1e595": {
      "model_module": "@jupyter-widgets/controls",
      "model_module_version": "1.5.0",
      "model_name": "HTMLModel",
      "state": {
       "_dom_classes": [],
       "_model_module": "@jupyter-widgets/controls",
       "_model_module_version": "1.5.0",
       "_model_name": "HTMLModel",
       "_view_count": null,
       "_view_module": "@jupyter-widgets/controls",
       "_view_module_version": "1.5.0",
       "_view_name": "HTMLView",
       "description": "",
       "description_tooltip": null,
       "layout": "IPY_MODEL_3a812c6972614ab6861db19ddb0c06cf",
       "placeholder": "​",
       "style": "IPY_MODEL_47eaf8bfdd5f44d484caea9f15874e06",
       "value": "Downloading (…)okenizer_config.json: 100%"
      }
     },
     "299d03d669834e1caa37d495d1b8fa10": {
      "model_module": "@jupyter-widgets/controls",
      "model_module_version": "1.5.0",
      "model_name": "HBoxModel",
      "state": {
       "_dom_classes": [],
       "_model_module": "@jupyter-widgets/controls",
       "_model_module_version": "1.5.0",
       "_model_name": "HBoxModel",
       "_view_count": null,
       "_view_module": "@jupyter-widgets/controls",
       "_view_module_version": "1.5.0",
       "_view_name": "HBoxView",
       "box_style": "",
       "children": [
        "IPY_MODEL_92c2af09f34c4e6fac4baea9905e084f",
        "IPY_MODEL_fc5e71c4b9b04e7a8f7ff84a932d7800",
        "IPY_MODEL_22ff6995d3104285a8c767a423a1a3e1"
       ],
       "layout": "IPY_MODEL_c7ef480d07714f77bcf05bb71d2794f9"
      }
     },
     "2abdada367574ab7bc7e6a5b90c89c5b": {
      "model_module": "@jupyter-widgets/base",
      "model_module_version": "1.2.0",
      "model_name": "LayoutModel",
      "state": {
       "_model_module": "@jupyter-widgets/base",
       "_model_module_version": "1.2.0",
       "_model_name": "LayoutModel",
       "_view_count": null,
       "_view_module": "@jupyter-widgets/base",
       "_view_module_version": "1.2.0",
       "_view_name": "LayoutView",
       "align_content": null,
       "align_items": null,
       "align_self": null,
       "border": null,
       "bottom": null,
       "display": null,
       "flex": null,
       "flex_flow": null,
       "grid_area": null,
       "grid_auto_columns": null,
       "grid_auto_flow": null,
       "grid_auto_rows": null,
       "grid_column": null,
       "grid_gap": null,
       "grid_row": null,
       "grid_template_areas": null,
       "grid_template_columns": null,
       "grid_template_rows": null,
       "height": null,
       "justify_content": null,
       "justify_items": null,
       "left": null,
       "margin": null,
       "max_height": null,
       "max_width": null,
       "min_height": null,
       "min_width": null,
       "object_fit": null,
       "object_position": null,
       "order": null,
       "overflow": null,
       "overflow_x": null,
       "overflow_y": null,
       "padding": null,
       "right": null,
       "top": null,
       "visibility": null,
       "width": null
      }
     },
     "2b5bad080ddb46bd97d57f83098818d1": {
      "model_module": "@jupyter-widgets/controls",
      "model_module_version": "1.5.0",
      "model_name": "DescriptionStyleModel",
      "state": {
       "_model_module": "@jupyter-widgets/controls",
       "_model_module_version": "1.5.0",
       "_model_name": "DescriptionStyleModel",
       "_view_count": null,
       "_view_module": "@jupyter-widgets/base",
       "_view_module_version": "1.2.0",
       "_view_name": "StyleView",
       "description_width": ""
      }
     },
     "2e8d537f7e914eae9538f9d4402fe2b4": {
      "model_module": "@jupyter-widgets/controls",
      "model_module_version": "1.5.0",
      "model_name": "VBoxModel",
      "state": {
       "_dom_classes": [],
       "_model_module": "@jupyter-widgets/controls",
       "_model_module_version": "1.5.0",
       "_model_name": "VBoxModel",
       "_view_count": null,
       "_view_module": "@jupyter-widgets/controls",
       "_view_module_version": "1.5.0",
       "_view_name": "VBoxView",
       "box_style": "",
       "children": [
        "IPY_MODEL_60e4741475704a2b96a854cfbb3e736a",
        "IPY_MODEL_7c96a2502c144df18ce2c3f668a81dab"
       ],
       "layout": "IPY_MODEL_4ced1d07b0f0449aa71c5babd0cbc5bb"
      }
     },
     "30ae9f5ed69743e7a765d14988a9321c": {
      "model_module": "@jupyter-widgets/controls",
      "model_module_version": "1.5.0",
      "model_name": "LabelModel",
      "state": {
       "_dom_classes": [],
       "_model_module": "@jupyter-widgets/controls",
       "_model_module_version": "1.5.0",
       "_model_name": "LabelModel",
       "_view_count": null,
       "_view_module": "@jupyter-widgets/controls",
       "_view_module_version": "1.5.0",
       "_view_name": "LabelView",
       "description": "",
       "description_tooltip": null,
       "layout": "IPY_MODEL_2abdada367574ab7bc7e6a5b90c89c5b",
       "placeholder": "​",
       "style": "IPY_MODEL_aaf0d2da1ce1411796a5f7e566ca8855",
       "value": ""
      }
     },
     "34234a26cd4b408cb76eab3fac476ed1": {
      "model_module": "@jupyter-widgets/base",
      "model_module_version": "1.2.0",
      "model_name": "LayoutModel",
      "state": {
       "_model_module": "@jupyter-widgets/base",
       "_model_module_version": "1.2.0",
       "_model_name": "LayoutModel",
       "_view_count": null,
       "_view_module": "@jupyter-widgets/base",
       "_view_module_version": "1.2.0",
       "_view_name": "LayoutView",
       "align_content": null,
       "align_items": null,
       "align_self": null,
       "border": null,
       "bottom": null,
       "display": null,
       "flex": null,
       "flex_flow": null,
       "grid_area": null,
       "grid_auto_columns": null,
       "grid_auto_flow": null,
       "grid_auto_rows": null,
       "grid_column": null,
       "grid_gap": null,
       "grid_row": null,
       "grid_template_areas": null,
       "grid_template_columns": null,
       "grid_template_rows": null,
       "height": null,
       "justify_content": null,
       "justify_items": null,
       "left": null,
       "margin": null,
       "max_height": null,
       "max_width": null,
       "min_height": null,
       "min_width": null,
       "object_fit": null,
       "object_position": null,
       "order": null,
       "overflow": null,
       "overflow_x": null,
       "overflow_y": null,
       "padding": null,
       "right": null,
       "top": null,
       "visibility": null,
       "width": null
      }
     },
     "344dab2921e7446ab7eb08087750ac14": {
      "model_module": "@jupyter-widgets/controls",
      "model_module_version": "1.5.0",
      "model_name": "VBoxModel",
      "state": {
       "_dom_classes": [],
       "_model_module": "@jupyter-widgets/controls",
       "_model_module_version": "1.5.0",
       "_model_name": "VBoxModel",
       "_view_count": null,
       "_view_module": "@jupyter-widgets/controls",
       "_view_module_version": "1.5.0",
       "_view_name": "VBoxView",
       "box_style": "",
       "children": [
        "IPY_MODEL_cab3fa72a7a84a9c83ffe09d7b8639f0",
        "IPY_MODEL_6ba36ad0f3a149279fd600bc239d97c4"
       ],
       "layout": "IPY_MODEL_7e10b65d55474992a5a8f05728b7d852"
      }
     },
     "3610b439aa9247239f5c0fb3f9da348b": {
      "model_module": "@jupyter-widgets/controls",
      "model_module_version": "1.5.0",
      "model_name": "ProgressStyleModel",
      "state": {
       "_model_module": "@jupyter-widgets/controls",
       "_model_module_version": "1.5.0",
       "_model_name": "ProgressStyleModel",
       "_view_count": null,
       "_view_module": "@jupyter-widgets/base",
       "_view_module_version": "1.2.0",
       "_view_name": "StyleView",
       "bar_color": null,
       "description_width": ""
      }
     },
     "38b55da416e04b7097676be7d0767f9a": {
      "model_module": "@jupyter-widgets/controls",
      "model_module_version": "1.5.0",
      "model_name": "HTMLModel",
      "state": {
       "_dom_classes": [],
       "_model_module": "@jupyter-widgets/controls",
       "_model_module_version": "1.5.0",
       "_model_name": "HTMLModel",
       "_view_count": null,
       "_view_module": "@jupyter-widgets/controls",
       "_view_module_version": "1.5.0",
       "_view_name": "HTMLView",
       "description": "",
       "description_tooltip": null,
       "layout": "IPY_MODEL_de722c778ea74d87aa4ee2129eab5c93",
       "placeholder": "​",
       "style": "IPY_MODEL_ef6e59ab6c4743f29ef06f35ddda0a80",
       "value": "Downloading (…)solve/main/vocab.txt: 100%"
      }
     },
     "3a812c6972614ab6861db19ddb0c06cf": {
      "model_module": "@jupyter-widgets/base",
      "model_module_version": "1.2.0",
      "model_name": "LayoutModel",
      "state": {
       "_model_module": "@jupyter-widgets/base",
       "_model_module_version": "1.2.0",
       "_model_name": "LayoutModel",
       "_view_count": null,
       "_view_module": "@jupyter-widgets/base",
       "_view_module_version": "1.2.0",
       "_view_name": "LayoutView",
       "align_content": null,
       "align_items": null,
       "align_self": null,
       "border": null,
       "bottom": null,
       "display": null,
       "flex": null,
       "flex_flow": null,
       "grid_area": null,
       "grid_auto_columns": null,
       "grid_auto_flow": null,
       "grid_auto_rows": null,
       "grid_column": null,
       "grid_gap": null,
       "grid_row": null,
       "grid_template_areas": null,
       "grid_template_columns": null,
       "grid_template_rows": null,
       "height": null,
       "justify_content": null,
       "justify_items": null,
       "left": null,
       "margin": null,
       "max_height": null,
       "max_width": null,
       "min_height": null,
       "min_width": null,
       "object_fit": null,
       "object_position": null,
       "order": null,
       "overflow": null,
       "overflow_x": null,
       "overflow_y": null,
       "padding": null,
       "right": null,
       "top": null,
       "visibility": null,
       "width": null
      }
     },
     "3b9728e27a22426d9731105ee496c07b": {
      "model_module": "@jupyter-widgets/base",
      "model_module_version": "1.2.0",
      "model_name": "LayoutModel",
      "state": {
       "_model_module": "@jupyter-widgets/base",
       "_model_module_version": "1.2.0",
       "_model_name": "LayoutModel",
       "_view_count": null,
       "_view_module": "@jupyter-widgets/base",
       "_view_module_version": "1.2.0",
       "_view_name": "LayoutView",
       "align_content": null,
       "align_items": null,
       "align_self": null,
       "border": null,
       "bottom": null,
       "display": null,
       "flex": null,
       "flex_flow": null,
       "grid_area": null,
       "grid_auto_columns": null,
       "grid_auto_flow": null,
       "grid_auto_rows": null,
       "grid_column": null,
       "grid_gap": null,
       "grid_row": null,
       "grid_template_areas": null,
       "grid_template_columns": null,
       "grid_template_rows": null,
       "height": null,
       "justify_content": null,
       "justify_items": null,
       "left": null,
       "margin": null,
       "max_height": null,
       "max_width": null,
       "min_height": null,
       "min_width": null,
       "object_fit": null,
       "object_position": null,
       "order": null,
       "overflow": null,
       "overflow_x": null,
       "overflow_y": null,
       "padding": null,
       "right": null,
       "top": null,
       "visibility": null,
       "width": null
      }
     },
     "4649624ac9ee4db585390b1228620251": {
      "model_module": "@jupyter-widgets/base",
      "model_module_version": "1.2.0",
      "model_name": "LayoutModel",
      "state": {
       "_model_module": "@jupyter-widgets/base",
       "_model_module_version": "1.2.0",
       "_model_name": "LayoutModel",
       "_view_count": null,
       "_view_module": "@jupyter-widgets/base",
       "_view_module_version": "1.2.0",
       "_view_name": "LayoutView",
       "align_content": null,
       "align_items": null,
       "align_self": null,
       "border": null,
       "bottom": null,
       "display": null,
       "flex": null,
       "flex_flow": null,
       "grid_area": null,
       "grid_auto_columns": null,
       "grid_auto_flow": null,
       "grid_auto_rows": null,
       "grid_column": null,
       "grid_gap": null,
       "grid_row": null,
       "grid_template_areas": null,
       "grid_template_columns": null,
       "grid_template_rows": null,
       "height": null,
       "justify_content": null,
       "justify_items": null,
       "left": null,
       "margin": null,
       "max_height": null,
       "max_width": null,
       "min_height": null,
       "min_width": null,
       "object_fit": null,
       "object_position": null,
       "order": null,
       "overflow": null,
       "overflow_x": null,
       "overflow_y": null,
       "padding": null,
       "right": null,
       "top": null,
       "visibility": null,
       "width": null
      }
     },
     "47eaf8bfdd5f44d484caea9f15874e06": {
      "model_module": "@jupyter-widgets/controls",
      "model_module_version": "1.5.0",
      "model_name": "DescriptionStyleModel",
      "state": {
       "_model_module": "@jupyter-widgets/controls",
       "_model_module_version": "1.5.0",
       "_model_name": "DescriptionStyleModel",
       "_view_count": null,
       "_view_module": "@jupyter-widgets/base",
       "_view_module_version": "1.2.0",
       "_view_name": "StyleView",
       "description_width": ""
      }
     },
     "4ced1d07b0f0449aa71c5babd0cbc5bb": {
      "model_module": "@jupyter-widgets/base",
      "model_module_version": "1.2.0",
      "model_name": "LayoutModel",
      "state": {
       "_model_module": "@jupyter-widgets/base",
       "_model_module_version": "1.2.0",
       "_model_name": "LayoutModel",
       "_view_count": null,
       "_view_module": "@jupyter-widgets/base",
       "_view_module_version": "1.2.0",
       "_view_name": "LayoutView",
       "align_content": null,
       "align_items": null,
       "align_self": null,
       "border": null,
       "bottom": null,
       "display": null,
       "flex": null,
       "flex_flow": null,
       "grid_area": null,
       "grid_auto_columns": null,
       "grid_auto_flow": null,
       "grid_auto_rows": null,
       "grid_column": null,
       "grid_gap": null,
       "grid_row": null,
       "grid_template_areas": null,
       "grid_template_columns": null,
       "grid_template_rows": null,
       "height": null,
       "justify_content": null,
       "justify_items": null,
       "left": null,
       "margin": null,
       "max_height": null,
       "max_width": null,
       "min_height": null,
       "min_width": null,
       "object_fit": null,
       "object_position": null,
       "order": null,
       "overflow": null,
       "overflow_x": null,
       "overflow_y": null,
       "padding": null,
       "right": null,
       "top": null,
       "visibility": null,
       "width": null
      }
     },
     "5162a5f7ed124d688afe19fa6b9c2d8c": {
      "model_module": "@jupyter-widgets/base",
      "model_module_version": "1.2.0",
      "model_name": "LayoutModel",
      "state": {
       "_model_module": "@jupyter-widgets/base",
       "_model_module_version": "1.2.0",
       "_model_name": "LayoutModel",
       "_view_count": null,
       "_view_module": "@jupyter-widgets/base",
       "_view_module_version": "1.2.0",
       "_view_name": "LayoutView",
       "align_content": null,
       "align_items": null,
       "align_self": null,
       "border": null,
       "bottom": null,
       "display": null,
       "flex": null,
       "flex_flow": null,
       "grid_area": null,
       "grid_auto_columns": null,
       "grid_auto_flow": null,
       "grid_auto_rows": null,
       "grid_column": null,
       "grid_gap": null,
       "grid_row": null,
       "grid_template_areas": null,
       "grid_template_columns": null,
       "grid_template_rows": null,
       "height": null,
       "justify_content": null,
       "justify_items": null,
       "left": null,
       "margin": null,
       "max_height": null,
       "max_width": null,
       "min_height": null,
       "min_width": null,
       "object_fit": null,
       "object_position": null,
       "order": null,
       "overflow": null,
       "overflow_x": null,
       "overflow_y": null,
       "padding": null,
       "right": null,
       "top": null,
       "visibility": null,
       "width": null
      }
     },
     "5202b244028f405caf5696cd8ce15ef0": {
      "model_module": "@jupyter-widgets/base",
      "model_module_version": "1.2.0",
      "model_name": "LayoutModel",
      "state": {
       "_model_module": "@jupyter-widgets/base",
       "_model_module_version": "1.2.0",
       "_model_name": "LayoutModel",
       "_view_count": null,
       "_view_module": "@jupyter-widgets/base",
       "_view_module_version": "1.2.0",
       "_view_name": "LayoutView",
       "align_content": null,
       "align_items": null,
       "align_self": null,
       "border": null,
       "bottom": null,
       "display": null,
       "flex": null,
       "flex_flow": null,
       "grid_area": null,
       "grid_auto_columns": null,
       "grid_auto_flow": null,
       "grid_auto_rows": null,
       "grid_column": null,
       "grid_gap": null,
       "grid_row": null,
       "grid_template_areas": null,
       "grid_template_columns": null,
       "grid_template_rows": null,
       "height": null,
       "justify_content": null,
       "justify_items": null,
       "left": null,
       "margin": null,
       "max_height": null,
       "max_width": null,
       "min_height": null,
       "min_width": null,
       "object_fit": null,
       "object_position": null,
       "order": null,
       "overflow": null,
       "overflow_x": null,
       "overflow_y": null,
       "padding": null,
       "right": null,
       "top": null,
       "visibility": null,
       "width": null
      }
     },
     "57101334750c40e89cb0e5fad4d0b731": {
      "model_module": "@jupyter-widgets/controls",
      "model_module_version": "1.5.0",
      "model_name": "HTMLModel",
      "state": {
       "_dom_classes": [],
       "_model_module": "@jupyter-widgets/controls",
       "_model_module_version": "1.5.0",
       "_model_name": "HTMLModel",
       "_view_count": null,
       "_view_module": "@jupyter-widgets/controls",
       "_view_module_version": "1.5.0",
       "_view_name": "HTMLView",
       "description": "",
       "description_tooltip": null,
       "layout": "IPY_MODEL_c081c2707b104421b99a7533137d5529",
       "placeholder": "​",
       "style": "IPY_MODEL_2b5bad080ddb46bd97d57f83098818d1",
       "value": " 28.0/28.0 [00:00&lt;00:00, 1.19kB/s]"
      }
     },
     "5cbdb16551d749cd98fbc530e8dff6e8": {
      "model_module": "@jupyter-widgets/controls",
      "model_module_version": "1.5.0",
      "model_name": "DescriptionStyleModel",
      "state": {
       "_model_module": "@jupyter-widgets/controls",
       "_model_module_version": "1.5.0",
       "_model_name": "DescriptionStyleModel",
       "_view_count": null,
       "_view_module": "@jupyter-widgets/base",
       "_view_module_version": "1.2.0",
       "_view_name": "StyleView",
       "description_width": ""
      }
     },
     "5e9c5cdfd60144a3a0a944d8e95dfb77": {
      "model_module": "@jupyter-widgets/controls",
      "model_module_version": "1.5.0",
      "model_name": "DescriptionStyleModel",
      "state": {
       "_model_module": "@jupyter-widgets/controls",
       "_model_module_version": "1.5.0",
       "_model_name": "DescriptionStyleModel",
       "_view_count": null,
       "_view_module": "@jupyter-widgets/base",
       "_view_module_version": "1.2.0",
       "_view_name": "StyleView",
       "description_width": ""
      }
     },
     "60e4741475704a2b96a854cfbb3e736a": {
      "model_module": "@jupyter-widgets/controls",
      "model_module_version": "1.5.0",
      "model_name": "LabelModel",
      "state": {
       "_dom_classes": [],
       "_model_module": "@jupyter-widgets/controls",
       "_model_module_version": "1.5.0",
       "_model_name": "LabelModel",
       "_view_count": null,
       "_view_module": "@jupyter-widgets/controls",
       "_view_module_version": "1.5.0",
       "_view_name": "LabelView",
       "description": "",
       "description_tooltip": null,
       "layout": "IPY_MODEL_67a6d265092a4a028aae794d27ace8ed",
       "placeholder": "​",
       "style": "IPY_MODEL_0216e9a3ad294ff99c0609f3a2844bf8",
       "value": "0.000 MB of 0.000 MB uploaded (0.000 MB deduped)\r"
      }
     },
     "655985c205464addbccbe515f4df907b": {
      "model_module": "@jupyter-widgets/controls",
      "model_module_version": "1.5.0",
      "model_name": "ProgressStyleModel",
      "state": {
       "_model_module": "@jupyter-widgets/controls",
       "_model_module_version": "1.5.0",
       "_model_name": "ProgressStyleModel",
       "_view_count": null,
       "_view_module": "@jupyter-widgets/base",
       "_view_module_version": "1.2.0",
       "_view_name": "StyleView",
       "bar_color": null,
       "description_width": ""
      }
     },
     "67a6d265092a4a028aae794d27ace8ed": {
      "model_module": "@jupyter-widgets/base",
      "model_module_version": "1.2.0",
      "model_name": "LayoutModel",
      "state": {
       "_model_module": "@jupyter-widgets/base",
       "_model_module_version": "1.2.0",
       "_model_name": "LayoutModel",
       "_view_count": null,
       "_view_module": "@jupyter-widgets/base",
       "_view_module_version": "1.2.0",
       "_view_name": "LayoutView",
       "align_content": null,
       "align_items": null,
       "align_self": null,
       "border": null,
       "bottom": null,
       "display": null,
       "flex": null,
       "flex_flow": null,
       "grid_area": null,
       "grid_auto_columns": null,
       "grid_auto_flow": null,
       "grid_auto_rows": null,
       "grid_column": null,
       "grid_gap": null,
       "grid_row": null,
       "grid_template_areas": null,
       "grid_template_columns": null,
       "grid_template_rows": null,
       "height": null,
       "justify_content": null,
       "justify_items": null,
       "left": null,
       "margin": null,
       "max_height": null,
       "max_width": null,
       "min_height": null,
       "min_width": null,
       "object_fit": null,
       "object_position": null,
       "order": null,
       "overflow": null,
       "overflow_x": null,
       "overflow_y": null,
       "padding": null,
       "right": null,
       "top": null,
       "visibility": null,
       "width": null
      }
     },
     "6ba36ad0f3a149279fd600bc239d97c4": {
      "model_module": "@jupyter-widgets/controls",
      "model_module_version": "1.5.0",
      "model_name": "FloatProgressModel",
      "state": {
       "_dom_classes": [],
       "_model_module": "@jupyter-widgets/controls",
       "_model_module_version": "1.5.0",
       "_model_name": "FloatProgressModel",
       "_view_count": null,
       "_view_module": "@jupyter-widgets/controls",
       "_view_module_version": "1.5.0",
       "_view_name": "ProgressView",
       "bar_style": "",
       "description": "",
       "description_tooltip": null,
       "layout": "IPY_MODEL_182d19cf3ef840b3b77c0cbb1770d136",
       "max": 1.0,
       "min": 0.0,
       "orientation": "horizontal",
       "style": "IPY_MODEL_716d88862af346f7959366168c037a27",
       "value": 0.0
      }
     },
     "716d88862af346f7959366168c037a27": {
      "model_module": "@jupyter-widgets/controls",
      "model_module_version": "1.5.0",
      "model_name": "ProgressStyleModel",
      "state": {
       "_model_module": "@jupyter-widgets/controls",
       "_model_module_version": "1.5.0",
       "_model_name": "ProgressStyleModel",
       "_view_count": null,
       "_view_module": "@jupyter-widgets/base",
       "_view_module_version": "1.2.0",
       "_view_name": "StyleView",
       "bar_color": null,
       "description_width": ""
      }
     },
     "757ac2c92f6a49b38538531e6421aea9": {
      "model_module": "@jupyter-widgets/base",
      "model_module_version": "1.2.0",
      "model_name": "LayoutModel",
      "state": {
       "_model_module": "@jupyter-widgets/base",
       "_model_module_version": "1.2.0",
       "_model_name": "LayoutModel",
       "_view_count": null,
       "_view_module": "@jupyter-widgets/base",
       "_view_module_version": "1.2.0",
       "_view_name": "LayoutView",
       "align_content": null,
       "align_items": null,
       "align_self": null,
       "border": null,
       "bottom": null,
       "display": null,
       "flex": null,
       "flex_flow": null,
       "grid_area": null,
       "grid_auto_columns": null,
       "grid_auto_flow": null,
       "grid_auto_rows": null,
       "grid_column": null,
       "grid_gap": null,
       "grid_row": null,
       "grid_template_areas": null,
       "grid_template_columns": null,
       "grid_template_rows": null,
       "height": null,
       "justify_content": null,
       "justify_items": null,
       "left": null,
       "margin": null,
       "max_height": null,
       "max_width": null,
       "min_height": null,
       "min_width": null,
       "object_fit": null,
       "object_position": null,
       "order": null,
       "overflow": null,
       "overflow_x": null,
       "overflow_y": null,
       "padding": null,
       "right": null,
       "top": null,
       "visibility": null,
       "width": null
      }
     },
     "7b6cc7b6d7cd44449e3f83fb11fb8287": {
      "model_module": "@jupyter-widgets/controls",
      "model_module_version": "1.5.0",
      "model_name": "FloatProgressModel",
      "state": {
       "_dom_classes": [],
       "_model_module": "@jupyter-widgets/controls",
       "_model_module_version": "1.5.0",
       "_model_name": "FloatProgressModel",
       "_view_count": null,
       "_view_module": "@jupyter-widgets/controls",
       "_view_module_version": "1.5.0",
       "_view_name": "ProgressView",
       "bar_style": "",
       "description": "",
       "description_tooltip": null,
       "layout": "IPY_MODEL_13c9856a18794f96aa048542cde46b1d",
       "max": 1.0,
       "min": 0.0,
       "orientation": "horizontal",
       "style": "IPY_MODEL_0d83fb5ebb394dffbdc28c99bd117a7f",
       "value": 0.0
      }
     },
     "7c96a2502c144df18ce2c3f668a81dab": {
      "model_module": "@jupyter-widgets/controls",
      "model_module_version": "1.5.0",
      "model_name": "FloatProgressModel",
      "state": {
       "_dom_classes": [],
       "_model_module": "@jupyter-widgets/controls",
       "_model_module_version": "1.5.0",
       "_model_name": "FloatProgressModel",
       "_view_count": null,
       "_view_module": "@jupyter-widgets/controls",
       "_view_module_version": "1.5.0",
       "_view_name": "ProgressView",
       "bar_style": "",
       "description": "",
       "description_tooltip": null,
       "layout": "IPY_MODEL_e6f803c444d6420e8e3b537557c09c91",
       "max": 1.0,
       "min": 0.0,
       "orientation": "horizontal",
       "style": "IPY_MODEL_8b716be24c404e10ae8cf50158818c53",
       "value": 1.0
      }
     },
     "7e10b65d55474992a5a8f05728b7d852": {
      "model_module": "@jupyter-widgets/base",
      "model_module_version": "1.2.0",
      "model_name": "LayoutModel",
      "state": {
       "_model_module": "@jupyter-widgets/base",
       "_model_module_version": "1.2.0",
       "_model_name": "LayoutModel",
       "_view_count": null,
       "_view_module": "@jupyter-widgets/base",
       "_view_module_version": "1.2.0",
       "_view_name": "LayoutView",
       "align_content": null,
       "align_items": null,
       "align_self": null,
       "border": null,
       "bottom": null,
       "display": null,
       "flex": null,
       "flex_flow": null,
       "grid_area": null,
       "grid_auto_columns": null,
       "grid_auto_flow": null,
       "grid_auto_rows": null,
       "grid_column": null,
       "grid_gap": null,
       "grid_row": null,
       "grid_template_areas": null,
       "grid_template_columns": null,
       "grid_template_rows": null,
       "height": null,
       "justify_content": null,
       "justify_items": null,
       "left": null,
       "margin": null,
       "max_height": null,
       "max_width": null,
       "min_height": null,
       "min_width": null,
       "object_fit": null,
       "object_position": null,
       "order": null,
       "overflow": null,
       "overflow_x": null,
       "overflow_y": null,
       "padding": null,
       "right": null,
       "top": null,
       "visibility": null,
       "width": null
      }
     },
     "7e7131b1eab248f6bc56edd9a8728da6": {
      "model_module": "@jupyter-widgets/controls",
      "model_module_version": "1.5.0",
      "model_name": "HBoxModel",
      "state": {
       "_dom_classes": [],
       "_model_module": "@jupyter-widgets/controls",
       "_model_module_version": "1.5.0",
       "_model_name": "HBoxModel",
       "_view_count": null,
       "_view_module": "@jupyter-widgets/controls",
       "_view_module_version": "1.5.0",
       "_view_name": "HBoxView",
       "box_style": "",
       "children": [
        "IPY_MODEL_269561f4d1df4bb6a4692744dca1e595",
        "IPY_MODEL_89fc805cc65e46c7a32e0567995f0bad",
        "IPY_MODEL_57101334750c40e89cb0e5fad4d0b731"
       ],
       "layout": "IPY_MODEL_e01cee5a11bd4b06852ec7414122f9e0"
      }
     },
     "89fc805cc65e46c7a32e0567995f0bad": {
      "model_module": "@jupyter-widgets/controls",
      "model_module_version": "1.5.0",
      "model_name": "FloatProgressModel",
      "state": {
       "_dom_classes": [],
       "_model_module": "@jupyter-widgets/controls",
       "_model_module_version": "1.5.0",
       "_model_name": "FloatProgressModel",
       "_view_count": null,
       "_view_module": "@jupyter-widgets/controls",
       "_view_module_version": "1.5.0",
       "_view_name": "ProgressView",
       "bar_style": "success",
       "description": "",
       "description_tooltip": null,
       "layout": "IPY_MODEL_ad443674a6bb4ffe91bfea39950591df",
       "max": 28.0,
       "min": 0.0,
       "orientation": "horizontal",
       "style": "IPY_MODEL_3610b439aa9247239f5c0fb3f9da348b",
       "value": 28.0
      }
     },
     "8b716be24c404e10ae8cf50158818c53": {
      "model_module": "@jupyter-widgets/controls",
      "model_module_version": "1.5.0",
      "model_name": "ProgressStyleModel",
      "state": {
       "_model_module": "@jupyter-widgets/controls",
       "_model_module_version": "1.5.0",
       "_model_name": "ProgressStyleModel",
       "_view_count": null,
       "_view_module": "@jupyter-widgets/base",
       "_view_module_version": "1.2.0",
       "_view_name": "StyleView",
       "bar_color": null,
       "description_width": ""
      }
     },
     "8dac69c9601347c5a75108c57c135f15": {
      "model_module": "@jupyter-widgets/controls",
      "model_module_version": "1.5.0",
      "model_name": "HBoxModel",
      "state": {
       "_dom_classes": [],
       "_model_module": "@jupyter-widgets/controls",
       "_model_module_version": "1.5.0",
       "_model_name": "HBoxModel",
       "_view_count": null,
       "_view_module": "@jupyter-widgets/controls",
       "_view_module_version": "1.5.0",
       "_view_name": "HBoxView",
       "box_style": "",
       "children": [
        "IPY_MODEL_12e256cc8a8c4a938582ee87d3ba25a6",
        "IPY_MODEL_9f8afb65b8574310bd8db1cac4b371b3",
        "IPY_MODEL_f12f1b8544e546ada20c1592785d90e1"
       ],
       "layout": "IPY_MODEL_f0f4d3fa04b349149508505b4013965e"
      }
     },
     "8f236ea9f8074c379cd74050a0109325": {
      "model_module": "@jupyter-widgets/controls",
      "model_module_version": "1.5.0",
      "model_name": "LabelModel",
      "state": {
       "_dom_classes": [],
       "_model_module": "@jupyter-widgets/controls",
       "_model_module_version": "1.5.0",
       "_model_name": "LabelModel",
       "_view_count": null,
       "_view_module": "@jupyter-widgets/controls",
       "_view_module_version": "1.5.0",
       "_view_name": "LabelView",
       "description": "",
       "description_tooltip": null,
       "layout": "IPY_MODEL_5162a5f7ed124d688afe19fa6b9c2d8c",
       "placeholder": "​",
       "style": "IPY_MODEL_8f38758345b44365a5bcc99bb1a9d59a",
       "value": ""
      }
     },
     "8f38758345b44365a5bcc99bb1a9d59a": {
      "model_module": "@jupyter-widgets/controls",
      "model_module_version": "1.5.0",
      "model_name": "DescriptionStyleModel",
      "state": {
       "_model_module": "@jupyter-widgets/controls",
       "_model_module_version": "1.5.0",
       "_model_name": "DescriptionStyleModel",
       "_view_count": null,
       "_view_module": "@jupyter-widgets/base",
       "_view_module_version": "1.2.0",
       "_view_name": "StyleView",
       "description_width": ""
      }
     },
     "90705d904b2745debc11e32909fc8a37": {
      "model_module": "@jupyter-widgets/controls",
      "model_module_version": "1.5.0",
      "model_name": "ProgressStyleModel",
      "state": {
       "_model_module": "@jupyter-widgets/controls",
       "_model_module_version": "1.5.0",
       "_model_name": "ProgressStyleModel",
       "_view_count": null,
       "_view_module": "@jupyter-widgets/base",
       "_view_module_version": "1.2.0",
       "_view_name": "StyleView",
       "bar_color": null,
       "description_width": ""
      }
     },
     "92c2af09f34c4e6fac4baea9905e084f": {
      "model_module": "@jupyter-widgets/controls",
      "model_module_version": "1.5.0",
      "model_name": "HTMLModel",
      "state": {
       "_dom_classes": [],
       "_model_module": "@jupyter-widgets/controls",
       "_model_module_version": "1.5.0",
       "_model_name": "HTMLModel",
       "_view_count": null,
       "_view_module": "@jupyter-widgets/controls",
       "_view_module_version": "1.5.0",
       "_view_name": "HTMLView",
       "description": "",
       "description_tooltip": null,
       "layout": "IPY_MODEL_3b9728e27a22426d9731105ee496c07b",
       "placeholder": "​",
       "style": "IPY_MODEL_b98f539d1d0140bbae2137a285f37c3a",
       "value": "Downloading tf_model.h5: 100%"
      }
     },
     "9f8afb65b8574310bd8db1cac4b371b3": {
      "model_module": "@jupyter-widgets/controls",
      "model_module_version": "1.5.0",
      "model_name": "FloatProgressModel",
      "state": {
       "_dom_classes": [],
       "_model_module": "@jupyter-widgets/controls",
       "_model_module_version": "1.5.0",
       "_model_name": "FloatProgressModel",
       "_view_count": null,
       "_view_module": "@jupyter-widgets/controls",
       "_view_module_version": "1.5.0",
       "_view_name": "ProgressView",
       "bar_style": "success",
       "description": "",
       "description_tooltip": null,
       "layout": "IPY_MODEL_1bceb6cc8ffd45d7a829942b9eb1a390",
       "max": 483.0,
       "min": 0.0,
       "orientation": "horizontal",
       "style": "IPY_MODEL_1487b2dc4c60433ba1ffc95130f1b8af",
       "value": 483.0
      }
     },
     "a439c0a62f5442a78a7d2b6fd6c8ad7d": {
      "model_module": "@jupyter-widgets/controls",
      "model_module_version": "1.5.0",
      "model_name": "FloatProgressModel",
      "state": {
       "_dom_classes": [],
       "_model_module": "@jupyter-widgets/controls",
       "_model_module_version": "1.5.0",
       "_model_name": "FloatProgressModel",
       "_view_count": null,
       "_view_module": "@jupyter-widgets/controls",
       "_view_module_version": "1.5.0",
       "_view_name": "ProgressView",
       "bar_style": "",
       "description": "",
       "description_tooltip": null,
       "layout": "IPY_MODEL_cc23cb8750dd4c4e8a80d292b8c33428",
       "max": 1.0,
       "min": 0.0,
       "orientation": "horizontal",
       "style": "IPY_MODEL_90705d904b2745debc11e32909fc8a37",
       "value": 0.0
      }
     },
     "aaf0d2da1ce1411796a5f7e566ca8855": {
      "model_module": "@jupyter-widgets/controls",
      "model_module_version": "1.5.0",
      "model_name": "DescriptionStyleModel",
      "state": {
       "_model_module": "@jupyter-widgets/controls",
       "_model_module_version": "1.5.0",
       "_model_name": "DescriptionStyleModel",
       "_view_count": null,
       "_view_module": "@jupyter-widgets/base",
       "_view_module_version": "1.2.0",
       "_view_name": "StyleView",
       "description_width": ""
      }
     },
     "ad443674a6bb4ffe91bfea39950591df": {
      "model_module": "@jupyter-widgets/base",
      "model_module_version": "1.2.0",
      "model_name": "LayoutModel",
      "state": {
       "_model_module": "@jupyter-widgets/base",
       "_model_module_version": "1.2.0",
       "_model_name": "LayoutModel",
       "_view_count": null,
       "_view_module": "@jupyter-widgets/base",
       "_view_module_version": "1.2.0",
       "_view_name": "LayoutView",
       "align_content": null,
       "align_items": null,
       "align_self": null,
       "border": null,
       "bottom": null,
       "display": null,
       "flex": null,
       "flex_flow": null,
       "grid_area": null,
       "grid_auto_columns": null,
       "grid_auto_flow": null,
       "grid_auto_rows": null,
       "grid_column": null,
       "grid_gap": null,
       "grid_row": null,
       "grid_template_areas": null,
       "grid_template_columns": null,
       "grid_template_rows": null,
       "height": null,
       "justify_content": null,
       "justify_items": null,
       "left": null,
       "margin": null,
       "max_height": null,
       "max_width": null,
       "min_height": null,
       "min_width": null,
       "object_fit": null,
       "object_position": null,
       "order": null,
       "overflow": null,
       "overflow_x": null,
       "overflow_y": null,
       "padding": null,
       "right": null,
       "top": null,
       "visibility": null,
       "width": null
      }
     },
     "b96e306b6821449780f21251bc495098": {
      "model_module": "@jupyter-widgets/base",
      "model_module_version": "1.2.0",
      "model_name": "LayoutModel",
      "state": {
       "_model_module": "@jupyter-widgets/base",
       "_model_module_version": "1.2.0",
       "_model_name": "LayoutModel",
       "_view_count": null,
       "_view_module": "@jupyter-widgets/base",
       "_view_module_version": "1.2.0",
       "_view_name": "LayoutView",
       "align_content": null,
       "align_items": null,
       "align_self": null,
       "border": null,
       "bottom": null,
       "display": null,
       "flex": null,
       "flex_flow": null,
       "grid_area": null,
       "grid_auto_columns": null,
       "grid_auto_flow": null,
       "grid_auto_rows": null,
       "grid_column": null,
       "grid_gap": null,
       "grid_row": null,
       "grid_template_areas": null,
       "grid_template_columns": null,
       "grid_template_rows": null,
       "height": null,
       "justify_content": null,
       "justify_items": null,
       "left": null,
       "margin": null,
       "max_height": null,
       "max_width": null,
       "min_height": null,
       "min_width": null,
       "object_fit": null,
       "object_position": null,
       "order": null,
       "overflow": null,
       "overflow_x": null,
       "overflow_y": null,
       "padding": null,
       "right": null,
       "top": null,
       "visibility": null,
       "width": null
      }
     },
     "b98f539d1d0140bbae2137a285f37c3a": {
      "model_module": "@jupyter-widgets/controls",
      "model_module_version": "1.5.0",
      "model_name": "DescriptionStyleModel",
      "state": {
       "_model_module": "@jupyter-widgets/controls",
       "_model_module_version": "1.5.0",
       "_model_name": "DescriptionStyleModel",
       "_view_count": null,
       "_view_module": "@jupyter-widgets/base",
       "_view_module_version": "1.2.0",
       "_view_name": "StyleView",
       "description_width": ""
      }
     },
     "c081c2707b104421b99a7533137d5529": {
      "model_module": "@jupyter-widgets/base",
      "model_module_version": "1.2.0",
      "model_name": "LayoutModel",
      "state": {
       "_model_module": "@jupyter-widgets/base",
       "_model_module_version": "1.2.0",
       "_model_name": "LayoutModel",
       "_view_count": null,
       "_view_module": "@jupyter-widgets/base",
       "_view_module_version": "1.2.0",
       "_view_name": "LayoutView",
       "align_content": null,
       "align_items": null,
       "align_self": null,
       "border": null,
       "bottom": null,
       "display": null,
       "flex": null,
       "flex_flow": null,
       "grid_area": null,
       "grid_auto_columns": null,
       "grid_auto_flow": null,
       "grid_auto_rows": null,
       "grid_column": null,
       "grid_gap": null,
       "grid_row": null,
       "grid_template_areas": null,
       "grid_template_columns": null,
       "grid_template_rows": null,
       "height": null,
       "justify_content": null,
       "justify_items": null,
       "left": null,
       "margin": null,
       "max_height": null,
       "max_width": null,
       "min_height": null,
       "min_width": null,
       "object_fit": null,
       "object_position": null,
       "order": null,
       "overflow": null,
       "overflow_x": null,
       "overflow_y": null,
       "padding": null,
       "right": null,
       "top": null,
       "visibility": null,
       "width": null
      }
     },
     "c7ef480d07714f77bcf05bb71d2794f9": {
      "model_module": "@jupyter-widgets/base",
      "model_module_version": "1.2.0",
      "model_name": "LayoutModel",
      "state": {
       "_model_module": "@jupyter-widgets/base",
       "_model_module_version": "1.2.0",
       "_model_name": "LayoutModel",
       "_view_count": null,
       "_view_module": "@jupyter-widgets/base",
       "_view_module_version": "1.2.0",
       "_view_name": "LayoutView",
       "align_content": null,
       "align_items": null,
       "align_self": null,
       "border": null,
       "bottom": null,
       "display": null,
       "flex": null,
       "flex_flow": null,
       "grid_area": null,
       "grid_auto_columns": null,
       "grid_auto_flow": null,
       "grid_auto_rows": null,
       "grid_column": null,
       "grid_gap": null,
       "grid_row": null,
       "grid_template_areas": null,
       "grid_template_columns": null,
       "grid_template_rows": null,
       "height": null,
       "justify_content": null,
       "justify_items": null,
       "left": null,
       "margin": null,
       "max_height": null,
       "max_width": null,
       "min_height": null,
       "min_width": null,
       "object_fit": null,
       "object_position": null,
       "order": null,
       "overflow": null,
       "overflow_x": null,
       "overflow_y": null,
       "padding": null,
       "right": null,
       "top": null,
       "visibility": null,
       "width": null
      }
     },
     "cab3fa72a7a84a9c83ffe09d7b8639f0": {
      "model_module": "@jupyter-widgets/controls",
      "model_module_version": "1.5.0",
      "model_name": "LabelModel",
      "state": {
       "_dom_classes": [],
       "_model_module": "@jupyter-widgets/controls",
       "_model_module_version": "1.5.0",
       "_model_name": "LabelModel",
       "_view_count": null,
       "_view_module": "@jupyter-widgets/controls",
       "_view_module_version": "1.5.0",
       "_view_name": "LabelView",
       "description": "",
       "description_tooltip": null,
       "layout": "IPY_MODEL_5202b244028f405caf5696cd8ce15ef0",
       "placeholder": "​",
       "style": "IPY_MODEL_5e9c5cdfd60144a3a0a944d8e95dfb77",
       "value": ""
      }
     },
     "cc23cb8750dd4c4e8a80d292b8c33428": {
      "model_module": "@jupyter-widgets/base",
      "model_module_version": "1.2.0",
      "model_name": "LayoutModel",
      "state": {
       "_model_module": "@jupyter-widgets/base",
       "_model_module_version": "1.2.0",
       "_model_name": "LayoutModel",
       "_view_count": null,
       "_view_module": "@jupyter-widgets/base",
       "_view_module_version": "1.2.0",
       "_view_name": "LayoutView",
       "align_content": null,
       "align_items": null,
       "align_self": null,
       "border": null,
       "bottom": null,
       "display": null,
       "flex": null,
       "flex_flow": null,
       "grid_area": null,
       "grid_auto_columns": null,
       "grid_auto_flow": null,
       "grid_auto_rows": null,
       "grid_column": null,
       "grid_gap": null,
       "grid_row": null,
       "grid_template_areas": null,
       "grid_template_columns": null,
       "grid_template_rows": null,
       "height": null,
       "justify_content": null,
       "justify_items": null,
       "left": null,
       "margin": null,
       "max_height": null,
       "max_width": null,
       "min_height": null,
       "min_width": null,
       "object_fit": null,
       "object_position": null,
       "order": null,
       "overflow": null,
       "overflow_x": null,
       "overflow_y": null,
       "padding": null,
       "right": null,
       "top": null,
       "visibility": null,
       "width": null
      }
     },
     "ccd9626d12254bfd929b187c005c4270": {
      "model_module": "@jupyter-widgets/base",
      "model_module_version": "1.2.0",
      "model_name": "LayoutModel",
      "state": {
       "_model_module": "@jupyter-widgets/base",
       "_model_module_version": "1.2.0",
       "_model_name": "LayoutModel",
       "_view_count": null,
       "_view_module": "@jupyter-widgets/base",
       "_view_module_version": "1.2.0",
       "_view_name": "LayoutView",
       "align_content": null,
       "align_items": null,
       "align_self": null,
       "border": null,
       "bottom": null,
       "display": null,
       "flex": null,
       "flex_flow": null,
       "grid_area": null,
       "grid_auto_columns": null,
       "grid_auto_flow": null,
       "grid_auto_rows": null,
       "grid_column": null,
       "grid_gap": null,
       "grid_row": null,
       "grid_template_areas": null,
       "grid_template_columns": null,
       "grid_template_rows": null,
       "height": null,
       "justify_content": null,
       "justify_items": null,
       "left": null,
       "margin": null,
       "max_height": null,
       "max_width": null,
       "min_height": null,
       "min_width": null,
       "object_fit": null,
       "object_position": null,
       "order": null,
       "overflow": null,
       "overflow_x": null,
       "overflow_y": null,
       "padding": null,
       "right": null,
       "top": null,
       "visibility": null,
       "width": null
      }
     },
     "d8ad8b1810dc4d2ab891c270a6bc048e": {
      "model_module": "@jupyter-widgets/controls",
      "model_module_version": "1.5.0",
      "model_name": "DescriptionStyleModel",
      "state": {
       "_model_module": "@jupyter-widgets/controls",
       "_model_module_version": "1.5.0",
       "_model_name": "DescriptionStyleModel",
       "_view_count": null,
       "_view_module": "@jupyter-widgets/base",
       "_view_module_version": "1.2.0",
       "_view_name": "StyleView",
       "description_width": ""
      }
     },
     "de722c778ea74d87aa4ee2129eab5c93": {
      "model_module": "@jupyter-widgets/base",
      "model_module_version": "1.2.0",
      "model_name": "LayoutModel",
      "state": {
       "_model_module": "@jupyter-widgets/base",
       "_model_module_version": "1.2.0",
       "_model_name": "LayoutModel",
       "_view_count": null,
       "_view_module": "@jupyter-widgets/base",
       "_view_module_version": "1.2.0",
       "_view_name": "LayoutView",
       "align_content": null,
       "align_items": null,
       "align_self": null,
       "border": null,
       "bottom": null,
       "display": null,
       "flex": null,
       "flex_flow": null,
       "grid_area": null,
       "grid_auto_columns": null,
       "grid_auto_flow": null,
       "grid_auto_rows": null,
       "grid_column": null,
       "grid_gap": null,
       "grid_row": null,
       "grid_template_areas": null,
       "grid_template_columns": null,
       "grid_template_rows": null,
       "height": null,
       "justify_content": null,
       "justify_items": null,
       "left": null,
       "margin": null,
       "max_height": null,
       "max_width": null,
       "min_height": null,
       "min_width": null,
       "object_fit": null,
       "object_position": null,
       "order": null,
       "overflow": null,
       "overflow_x": null,
       "overflow_y": null,
       "padding": null,
       "right": null,
       "top": null,
       "visibility": null,
       "width": null
      }
     },
     "df80c53e4c254cb98c5975b369d529eb": {
      "model_module": "@jupyter-widgets/base",
      "model_module_version": "1.2.0",
      "model_name": "LayoutModel",
      "state": {
       "_model_module": "@jupyter-widgets/base",
       "_model_module_version": "1.2.0",
       "_model_name": "LayoutModel",
       "_view_count": null,
       "_view_module": "@jupyter-widgets/base",
       "_view_module_version": "1.2.0",
       "_view_name": "LayoutView",
       "align_content": null,
       "align_items": null,
       "align_self": null,
       "border": null,
       "bottom": null,
       "display": null,
       "flex": null,
       "flex_flow": null,
       "grid_area": null,
       "grid_auto_columns": null,
       "grid_auto_flow": null,
       "grid_auto_rows": null,
       "grid_column": null,
       "grid_gap": null,
       "grid_row": null,
       "grid_template_areas": null,
       "grid_template_columns": null,
       "grid_template_rows": null,
       "height": null,
       "justify_content": null,
       "justify_items": null,
       "left": null,
       "margin": null,
       "max_height": null,
       "max_width": null,
       "min_height": null,
       "min_width": null,
       "object_fit": null,
       "object_position": null,
       "order": null,
       "overflow": null,
       "overflow_x": null,
       "overflow_y": null,
       "padding": null,
       "right": null,
       "top": null,
       "visibility": null,
       "width": null
      }
     },
     "e01cee5a11bd4b06852ec7414122f9e0": {
      "model_module": "@jupyter-widgets/base",
      "model_module_version": "1.2.0",
      "model_name": "LayoutModel",
      "state": {
       "_model_module": "@jupyter-widgets/base",
       "_model_module_version": "1.2.0",
       "_model_name": "LayoutModel",
       "_view_count": null,
       "_view_module": "@jupyter-widgets/base",
       "_view_module_version": "1.2.0",
       "_view_name": "LayoutView",
       "align_content": null,
       "align_items": null,
       "align_self": null,
       "border": null,
       "bottom": null,
       "display": null,
       "flex": null,
       "flex_flow": null,
       "grid_area": null,
       "grid_auto_columns": null,
       "grid_auto_flow": null,
       "grid_auto_rows": null,
       "grid_column": null,
       "grid_gap": null,
       "grid_row": null,
       "grid_template_areas": null,
       "grid_template_columns": null,
       "grid_template_rows": null,
       "height": null,
       "justify_content": null,
       "justify_items": null,
       "left": null,
       "margin": null,
       "max_height": null,
       "max_width": null,
       "min_height": null,
       "min_width": null,
       "object_fit": null,
       "object_position": null,
       "order": null,
       "overflow": null,
       "overflow_x": null,
       "overflow_y": null,
       "padding": null,
       "right": null,
       "top": null,
       "visibility": null,
       "width": null
      }
     },
     "e0fdaab973984f12bd0c7858e715277d": {
      "model_module": "@jupyter-widgets/controls",
      "model_module_version": "1.5.0",
      "model_name": "VBoxModel",
      "state": {
       "_dom_classes": [],
       "_model_module": "@jupyter-widgets/controls",
       "_model_module_version": "1.5.0",
       "_model_name": "VBoxModel",
       "_view_count": null,
       "_view_module": "@jupyter-widgets/controls",
       "_view_module_version": "1.5.0",
       "_view_name": "VBoxView",
       "box_style": "",
       "children": [
        "IPY_MODEL_30ae9f5ed69743e7a765d14988a9321c",
        "IPY_MODEL_7b6cc7b6d7cd44449e3f83fb11fb8287"
       ],
       "layout": "IPY_MODEL_757ac2c92f6a49b38538531e6421aea9"
      }
     },
     "e5a44c6102534c9992ac3294b28975ca": {
      "model_module": "@jupyter-widgets/controls",
      "model_module_version": "1.5.0",
      "model_name": "VBoxModel",
      "state": {
       "_dom_classes": [],
       "_model_module": "@jupyter-widgets/controls",
       "_model_module_version": "1.5.0",
       "_model_name": "VBoxModel",
       "_view_count": null,
       "_view_module": "@jupyter-widgets/controls",
       "_view_module_version": "1.5.0",
       "_view_name": "VBoxView",
       "box_style": "",
       "children": [
        "IPY_MODEL_8f236ea9f8074c379cd74050a0109325",
        "IPY_MODEL_a439c0a62f5442a78a7d2b6fd6c8ad7d"
       ],
       "layout": "IPY_MODEL_34234a26cd4b408cb76eab3fac476ed1"
      }
     },
     "e6f803c444d6420e8e3b537557c09c91": {
      "model_module": "@jupyter-widgets/base",
      "model_module_version": "1.2.0",
      "model_name": "LayoutModel",
      "state": {
       "_model_module": "@jupyter-widgets/base",
       "_model_module_version": "1.2.0",
       "_model_name": "LayoutModel",
       "_view_count": null,
       "_view_module": "@jupyter-widgets/base",
       "_view_module_version": "1.2.0",
       "_view_name": "LayoutView",
       "align_content": null,
       "align_items": null,
       "align_self": null,
       "border": null,
       "bottom": null,
       "display": null,
       "flex": null,
       "flex_flow": null,
       "grid_area": null,
       "grid_auto_columns": null,
       "grid_auto_flow": null,
       "grid_auto_rows": null,
       "grid_column": null,
       "grid_gap": null,
       "grid_row": null,
       "grid_template_areas": null,
       "grid_template_columns": null,
       "grid_template_rows": null,
       "height": null,
       "justify_content": null,
       "justify_items": null,
       "left": null,
       "margin": null,
       "max_height": null,
       "max_width": null,
       "min_height": null,
       "min_width": null,
       "object_fit": null,
       "object_position": null,
       "order": null,
       "overflow": null,
       "overflow_x": null,
       "overflow_y": null,
       "padding": null,
       "right": null,
       "top": null,
       "visibility": null,
       "width": null
      }
     },
     "ef6e59ab6c4743f29ef06f35ddda0a80": {
      "model_module": "@jupyter-widgets/controls",
      "model_module_version": "1.5.0",
      "model_name": "DescriptionStyleModel",
      "state": {
       "_model_module": "@jupyter-widgets/controls",
       "_model_module_version": "1.5.0",
       "_model_name": "DescriptionStyleModel",
       "_view_count": null,
       "_view_module": "@jupyter-widgets/base",
       "_view_module_version": "1.2.0",
       "_view_name": "StyleView",
       "description_width": ""
      }
     },
     "f0f4d3fa04b349149508505b4013965e": {
      "model_module": "@jupyter-widgets/base",
      "model_module_version": "1.2.0",
      "model_name": "LayoutModel",
      "state": {
       "_model_module": "@jupyter-widgets/base",
       "_model_module_version": "1.2.0",
       "_model_name": "LayoutModel",
       "_view_count": null,
       "_view_module": "@jupyter-widgets/base",
       "_view_module_version": "1.2.0",
       "_view_name": "LayoutView",
       "align_content": null,
       "align_items": null,
       "align_self": null,
       "border": null,
       "bottom": null,
       "display": null,
       "flex": null,
       "flex_flow": null,
       "grid_area": null,
       "grid_auto_columns": null,
       "grid_auto_flow": null,
       "grid_auto_rows": null,
       "grid_column": null,
       "grid_gap": null,
       "grid_row": null,
       "grid_template_areas": null,
       "grid_template_columns": null,
       "grid_template_rows": null,
       "height": null,
       "justify_content": null,
       "justify_items": null,
       "left": null,
       "margin": null,
       "max_height": null,
       "max_width": null,
       "min_height": null,
       "min_width": null,
       "object_fit": null,
       "object_position": null,
       "order": null,
       "overflow": null,
       "overflow_x": null,
       "overflow_y": null,
       "padding": null,
       "right": null,
       "top": null,
       "visibility": null,
       "width": null
      }
     },
     "f12f1b8544e546ada20c1592785d90e1": {
      "model_module": "@jupyter-widgets/controls",
      "model_module_version": "1.5.0",
      "model_name": "HTMLModel",
      "state": {
       "_dom_classes": [],
       "_model_module": "@jupyter-widgets/controls",
       "_model_module_version": "1.5.0",
       "_model_name": "HTMLModel",
       "_view_count": null,
       "_view_module": "@jupyter-widgets/controls",
       "_view_module_version": "1.5.0",
       "_view_name": "HTMLView",
       "description": "",
       "description_tooltip": null,
       "layout": "IPY_MODEL_ccd9626d12254bfd929b187c005c4270",
       "placeholder": "​",
       "style": "IPY_MODEL_fb8ea87601cb48cf907127710c377e16",
       "value": " 483/483 [00:00&lt;00:00, 30.6kB/s]"
      }
     },
     "f20fe0e351604bec92ef4448b0c94021": {
      "model_module": "@jupyter-widgets/controls",
      "model_module_version": "1.5.0",
      "model_name": "DescriptionStyleModel",
      "state": {
       "_model_module": "@jupyter-widgets/controls",
       "_model_module_version": "1.5.0",
       "_model_name": "DescriptionStyleModel",
       "_view_count": null,
       "_view_module": "@jupyter-widgets/base",
       "_view_module_version": "1.2.0",
       "_view_name": "StyleView",
       "description_width": ""
      }
     },
     "fa864a5fd7594d95be275a4a858aaaa6": {
      "model_module": "@jupyter-widgets/controls",
      "model_module_version": "1.5.0",
      "model_name": "ProgressStyleModel",
      "state": {
       "_model_module": "@jupyter-widgets/controls",
       "_model_module_version": "1.5.0",
       "_model_name": "ProgressStyleModel",
       "_view_count": null,
       "_view_module": "@jupyter-widgets/base",
       "_view_module_version": "1.2.0",
       "_view_name": "StyleView",
       "bar_color": null,
       "description_width": ""
      }
     },
     "fb8ea87601cb48cf907127710c377e16": {
      "model_module": "@jupyter-widgets/controls",
      "model_module_version": "1.5.0",
      "model_name": "DescriptionStyleModel",
      "state": {
       "_model_module": "@jupyter-widgets/controls",
       "_model_module_version": "1.5.0",
       "_model_name": "DescriptionStyleModel",
       "_view_count": null,
       "_view_module": "@jupyter-widgets/base",
       "_view_module_version": "1.2.0",
       "_view_name": "StyleView",
       "description_width": ""
      }
     },
     "fc5e71c4b9b04e7a8f7ff84a932d7800": {
      "model_module": "@jupyter-widgets/controls",
      "model_module_version": "1.5.0",
      "model_name": "FloatProgressModel",
      "state": {
       "_dom_classes": [],
       "_model_module": "@jupyter-widgets/controls",
       "_model_module_version": "1.5.0",
       "_model_name": "FloatProgressModel",
       "_view_count": null,
       "_view_module": "@jupyter-widgets/controls",
       "_view_module_version": "1.5.0",
       "_view_name": "ProgressView",
       "bar_style": "success",
       "description": "",
       "description_tooltip": null,
       "layout": "IPY_MODEL_df80c53e4c254cb98c5975b369d529eb",
       "max": 363423424.0,
       "min": 0.0,
       "orientation": "horizontal",
       "style": "IPY_MODEL_fa864a5fd7594d95be275a4a858aaaa6",
       "value": 363423424.0
      }
     },
     "fe752b842a8040e98986e89afc83bcd8": {
      "model_module": "@jupyter-widgets/controls",
      "model_module_version": "1.5.0",
      "model_name": "HBoxModel",
      "state": {
       "_dom_classes": [],
       "_model_module": "@jupyter-widgets/controls",
       "_model_module_version": "1.5.0",
       "_model_name": "HBoxModel",
       "_view_count": null,
       "_view_module": "@jupyter-widgets/controls",
       "_view_module_version": "1.5.0",
       "_view_name": "HBoxView",
       "box_style": "",
       "children": [
        "IPY_MODEL_38b55da416e04b7097676be7d0767f9a",
        "IPY_MODEL_07082e5338ec440bbf0a6a8dc707fbf9",
        "IPY_MODEL_09e499a8b065469b89e53535d2748a2d"
       ],
       "layout": "IPY_MODEL_0394dbfc0aa741fbbea5b7ccf201e048"
      }
     }
    },
    "version_major": 2,
    "version_minor": 0
   }
  }
 },
 "nbformat": 4,
 "nbformat_minor": 5
}
